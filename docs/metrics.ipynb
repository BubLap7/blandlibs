{
 "cells": [
  {
   "cell_type": "code",
   "execution_count": 142,
   "metadata": {},
   "outputs": [
    {
     "name": "stdout",
     "output_type": "stream",
     "text": [
      "{'script_name': 'ranksmainmap', 'author': 'blandrice', 'link': 'https://github.com/blandrice/krunkerClansPlus', 'client': 'yes', 'server': '', 'other': '', 'description': 'Calculate camera shift between 1st person to 3rd person staring at a subject', 'tags': ['database', 'clansrank'], 'category': 'database', 'path': 'https://github.com/blandrice/blandlibs/tree/master/libs/database/clansrank'}\n",
      "{'script_name': 'ranksmainmap', 'author': 'blandrice', 'link': 'https://github.com/blandrice/krunkerClansPlus', 'client': '', 'server': 'yes', 'other': '', 'description': 'This is a shareable script to display popular Krunker Commmunity Clans Ranks in-game.', 'tags': ['database', 'clansrank'], 'category': 'database', 'path': 'https://github.com/blandrice/blandlibs/tree/master/libs/database/clansrank'}\n",
      "{'script_name': 'ranks', 'author': 'blandrice', 'link': 'https://github.com/blandrice/krunkerClansPlus', 'client': 'yes', 'server': '', 'other': '', 'description': 'Create a map in Krunker and copy the client & server scripts from this github to your new map.', 'tags': ['database', 'clansrank'], 'category': 'database', 'path': 'https://github.com/blandrice/blandlibs/tree/master/libs/database/clansrank'}\n",
      "{'script_name': 'ranks', 'author': '', 'link': '', 'client': '', 'server': 'yes', 'other': '', 'description': '', 'tags': ['database', 'clansrank'], 'category': 'database', 'path': 'https://github.com/blandrice/blandlibs/tree/master/libs/database/clansrank'}\n",
      "{'script_name': 'drawtriangle', 'author': 'Bub Lap', 'link': 'https://discord.com/channels/484192043833491487/575245801744498689/913314916637749258', 'client': '', 'server': '', 'other': 'yes', 'description': 'Basic drawTriangle action (KrunkScript example)', 'tags': ['examples', 'drawtriangle'], 'category': 'examples', 'path': 'https://github.com/blandrice/blandlibs/tree/master/libs/examples/drawtriangle'}\n",
      "skipping C:\\Users\\Justi\\Documents\\GitHub\\blandlibs\\libs\\game\\custommovement\\doublejump\\djregistersync\\DJconfig_h.krnk\n",
      "{'script_name': 'r_djumpclient', 'author': 'blandrice', 'link': '', 'client': '', 'server': '', 'other': 'yes', 'description': 'double-jump using registersync feature', 'tags': ['game', 'custommovement', 'doublejump', 'djregistersync'], 'category': 'game', 'path': 'https://github.com/blandrice/blandlibs/tree/master/libs/game/custommovement/doublejump/djregistersync'}\n",
      "skipping C:\\Users\\Justi\\Documents\\GitHub\\blandlibs\\libs\\game\\custommovement\\doublejump\\djregistersync_nodes\\DJcfg_nodes_h.krnk\n",
      "{'script_name': 'r_djumpnode', 'author': 'blandrice', 'link': '', 'client': '', 'server': '', 'other': 'yes', 'description': '', 'tags': ['game', 'custommovement', 'doublejump', 'djregistersync_nodes'], 'category': 'game', 'path': 'https://github.com/blandrice/blandlibs/tree/master/libs/game/custommovement/doublejump/djregistersync_nodes'}\n",
      "{'script_name': 'r_djumpnode', 'author': 'blandrice', 'link': '', 'client': 'yes', 'server': '', 'other': '', 'description': 'Doublejump with crystals', 'tags': ['game', 'custommovement', 'doublejump', 'djregistersync_nodes'], 'category': 'game', 'path': 'https://github.com/blandrice/blandlibs/tree/master/libs/game/custommovement/doublejump/djregistersync_nodes'}\n",
      "{'script_name': 'r_djumpnode', 'author': 'blandrice', 'link': '', 'client': '', 'server': 'yes', 'other': '', 'description': 'Doublejump with crystals', 'tags': ['game', 'custommovement', 'doublejump', 'djregistersync_nodes'], 'category': 'game', 'path': 'https://github.com/blandrice/blandlibs/tree/master/libs/game/custommovement/doublejump/djregistersync_nodes'}\n",
      "{'script_name': 'old_djump', 'author': 'blandrice', 'link': '', 'client': 'yes', 'server': '', 'other': '', 'description': 'old doublejump by blandrice before registersync was introduced.', 'tags': ['game', 'custommovement', 'doublejump', 'dj_oldsync'], 'category': 'game', 'path': 'https://github.com/blandrice/blandlibs/tree/master/libs/game/custommovement/doublejump/dj_oldsync'}\n",
      "{'script_name': 'old_djump', 'author': 'blandrice', 'link': '', 'client': '', 'server': 'yes', 'other': '', 'description': '', 'tags': ['game', 'custommovement', 'doublejump', 'dj_oldsync'], 'category': 'game', 'path': 'https://github.com/blandrice/blandlibs/tree/master/libs/game/custommovement/doublejump/dj_oldsync'}\n",
      "skipping C:\\Users\\Justi\\Documents\\GitHub\\blandlibs\\libs\\game\\custommovement\\doublejump\\dj_oldsync\\old_DJ_head_h.krnk\n",
      "{'script_name': 'customweapons', 'author': 'DQ Swat', 'link': 'https://discord.com/channels/859947586005368862/862113777946984459/923687262724685887', 'client': '', 'server': '', 'other': 'yes', 'description': 'custom weapon script.', 'tags': ['game', 'customWeapons'], 'category': 'game', 'path': 'https://github.com/blandrice/blandlibs/tree/master/libs/game/customWeapons'}\n",
      "skipping C:\\Users\\Justi\\Documents\\GitHub\\blandlibs\\libs\\game\\ECS\\components\\aibehavior\\ECS_aibhvr.krnk\n",
      "skipping C:\\Users\\Justi\\Documents\\GitHub\\blandlibs\\libs\\game\\ECS\\components\\color\\ECS_color.krnk\n",
      "skipping C:\\Users\\Justi\\Documents\\GitHub\\blandlibs\\libs\\game\\ECS\\components\\hitbox\\ECS_hitbox_s.krnk\n",
      "skipping C:\\Users\\Justi\\Documents\\GitHub\\blandlibs\\libs\\game\\ECS\\components\\lifetime\\ECS_lifetime_s.krnk\n",
      "skipping C:\\Users\\Justi\\Documents\\GitHub\\blandlibs\\libs\\game\\ECS\\components\\movement\\bounce\\ECS_bounce_s.krnk\n",
      "skipping C:\\Users\\Justi\\Documents\\GitHub\\blandlibs\\libs\\game\\ECS\\components\\movement\\floating\\ECS_floating_s.krnk\n",
      "skipping C:\\Users\\Justi\\Documents\\GitHub\\blandlibs\\libs\\game\\ECS\\components\\movement\\gravity\\ECS_grav_s.krnk\n",
      "skipping C:\\Users\\Justi\\Documents\\GitHub\\blandlibs\\libs\\game\\ECS\\components\\movement\\physics\\ECS_physics_s.krnk\n",
      "skipping C:\\Users\\Justi\\Documents\\GitHub\\blandlibs\\libs\\game\\ECS\\components\\movement\\shake\\ECS_shake_s.krnk\n",
      "skipping C:\\Users\\Justi\\Documents\\GitHub\\blandlibs\\libs\\game\\ECS\\entities\\item\\ECS_item_s.krnk\n",
      "skipping C:\\Users\\Justi\\Documents\\GitHub\\blandlibs\\libs\\game\\ECS\\entities\\platform\\ECS_platform_s.krnk\n",
      "{'script_name': 'ecs', 'author': 'blandrice', 'link': '', 'client': 'yes', 'server': '', 'other': '', 'description': 'Entity Component System', 'tags': ['game', 'ECS', 'system'], 'category': 'game', 'path': 'https://github.com/blandrice/blandlibs/tree/master/libs/game/ECS/system'}\n",
      "skipping C:\\Users\\Justi\\Documents\\GitHub\\blandlibs\\libs\\game\\ECS\\system\\ecs_h.krnk\n",
      "{'script_name': 'ecs', 'author': 'blandrice', 'link': '', 'client': '', 'server': 'yes', 'other': '', 'description': '', 'tags': ['game', 'ECS', 'system'], 'category': 'game', 'path': 'https://github.com/blandrice/blandlibs/tree/master/libs/game/ECS/system'}\n",
      "{'script_name': 'admin', 'author': 'KG07', 'link': 'https://github.com/KG07/admin_system_version1', 'client': 'yes', 'server': '', 'other': '', 'description': 'Admin system code: for map makers who doesn’t know or know a bit of scripting to hire some moderators into your map', 'tags': ['gameutil', 'admin'], 'category': 'gameutil', 'path': 'https://github.com/blandrice/blandlibs/tree/master/libs/gameutil/admin'}\n",
      "{'script_name': 'admin', 'author': 'KG07', 'link': 'https://github.com/KG07/admin_system_version1', 'client': '', 'server': 'yes', 'other': '', 'description': '', 'tags': ['gameutil', 'admin'], 'category': 'gameutil', 'path': 'https://github.com/blandrice/blandlibs/tree/master/libs/gameutil/admin'}\n",
      "{'script_name': 'checkpoint', 'author': 'Sakurasou', 'link': 'https://discord.com/channels/484192043833491487/575245801744498689/1045330962277486652', 'client': '', 'server': '', 'other': 'yes', 'description': 'Changes the names of the Checkpoints on the Speedrun Timer in the bottom right (Point 1, Point 2, ...)', 'tags': ['gameutil', 'checkpoint'], 'category': 'gameutil', 'path': 'https://github.com/blandrice/blandlibs/tree/master/libs/gameutil/checkpoint'}\n",
      "{'script_name': 'gamestart', 'author': 'blandrice', 'link': '', 'client': 'yes', 'server': '', 'other': '', 'description': 'Detect game start in a map with a countdown.', 'tags': ['gameutil', 'gamestart'], 'category': 'gameutil', 'path': 'https://github.com/blandrice/blandlibs/tree/master/libs/gameutil/gamestart'}\n",
      "{'script_name': 'gamestart', 'author': 'blandrice', 'link': '', 'client': '', 'server': 'yes', 'other': '', 'description': '', 'tags': ['gameutil', 'gamestart'], 'category': 'gameutil', 'path': 'https://github.com/blandrice/blandlibs/tree/master/libs/gameutil/gamestart'}\n",
      "{'script_name': 'g', 'author': 'blandrice', 'link': '', 'client': '', 'server': '', 'other': 'yes', 'description': 'some global vars that other libs can reference to reduce calls', 'tags': ['gameutil', 'global'], 'category': 'gameutil', 'path': 'https://github.com/blandrice/blandlibs/tree/master/libs/gameutil/global'}\n",
      "{'script_name': 'infected', 'author': 'DukeV', 'link': 'https://discord.com/channels/859947586005368862/862113777946984459/909435501298204713', 'client': '', 'server': 'yes', 'other': '', 'description': 'a way to find out whether a player is infected or not', 'tags': ['gameutil', 'infected'], 'category': 'gameutil', 'path': 'https://github.com/blandrice/blandlibs/tree/master/libs/gameutil/infected'}\n",
      "{'script_name': 'plrutil', 'author': 'blandrice', 'link': '', 'client': '', 'server': '', 'other': 'yes', 'description': '', 'tags': ['gameutil', 'plrutil'], 'category': 'gameutil', 'path': 'https://github.com/blandrice/blandlibs/tree/master/libs/gameutil/plrutil'}\n",
      "{'script_name': 'plrutil', 'author': 'blandrice', 'link': '', 'client': 'yes', 'server': '', 'other': '', 'description': 'workaround to check how many players are spawned in', 'tags': ['gameutil', 'plrutil'], 'category': 'gameutil', 'path': 'https://github.com/blandrice/blandlibs/tree/master/libs/gameutil/plrutil'}\n",
      "{'script_name': 'plrutil', 'author': 'blandrice', 'link': '', 'client': '', 'server': 'yes', 'other': '', 'description': '', 'tags': ['gameutil', 'plrutil'], 'category': 'gameutil', 'path': 'https://github.com/blandrice/blandlibs/tree/master/libs/gameutil/plrutil'}\n",
      "{'script_name': 'spectator', 'author': 'SlxTnT', 'link': 'https://discord.com/channels/859947586005368862/862113777946984459/900998093300969473', 'client': '', 'server': '', 'other': 'yes', 'description': 'My attempt at server side spectator checks. Can check the value with player.properties.isSpectator', 'tags': ['gameutil', 'spectator'], 'category': 'gameutil', 'path': 'https://github.com/blandrice/blandlibs/tree/master/libs/gameutil/spectator'}\n",
      "skipping C:\\Users\\Justi\\Documents\\GitHub\\blandlibs\\libs\\gameutil\\weaponinfo\\wi_h.krnk\n",
      "{'script_name': 'wpninfo', 'author': 'blandrice', 'link': '', 'client': 'yes', 'server': '', 'other': '', 'description': \"adds additional CLASS's PRIMARY weapon info to player object.\", 'tags': ['gameutil', 'weaponinfo'], 'category': 'gameutil', 'path': 'https://github.com/blandrice/blandlibs/tree/master/libs/gameutil/weaponinfo'}\n",
      "{'script_name': 'plrbhvr', 'author': 'blandrice', 'link': '', 'client': 'yes', 'server': '', 'other': '', 'description': 'disable server sync + behavior for custom movement', 'tags': ['network', 'plrbehavior'], 'category': 'network', 'path': 'https://github.com/blandrice/blandlibs/tree/master/libs/network/plrbehavior'}\n",
      "{'script_name': 'plrbhvr', 'author': 'blandrice', 'link': '', 'client': '', 'server': 'yes', 'other': '', 'description': '', 'tags': ['network', 'plrbehavior'], 'category': 'network', 'path': 'https://github.com/blandrice/blandlibs/tree/master/libs/network/plrbehavior'}\n",
      "{'script_name': 'syncobjs', 'author': 'blandrice', 'link': '', 'client': 'yes', 'server': '', 'other': '', 'description': 'Custom Server object syncing.', 'tags': ['network', 'syncobjs'], 'category': 'network', 'path': 'https://github.com/blandrice/blandlibs/tree/master/libs/network/syncobjs'}\n",
      "skipping C:\\Users\\Justi\\Documents\\GitHub\\blandlibs\\libs\\network\\syncobjs\\syncobjs_h.krnk\n",
      "{'script_name': 'syncobjs', 'author': 'blandrice', 'link': '', 'client': '', 'server': 'yes', 'other': '', 'description': '', 'tags': ['network', 'syncobjs'], 'category': 'network', 'path': 'https://github.com/blandrice/blandlibs/tree/master/libs/network/syncobjs'}\n",
      "{'script_name': 'camsway', 'author': 'creepycats', 'link': 'https://discord.com/channels/484192043833491487/575245801744498689/1055269916330168341', 'client': 'yes', 'server': '', 'other': '', 'description': 'sway camera when moving left and right', 'tags': ['overlay', 'cameraSway'], 'category': 'overlay', 'path': 'https://github.com/blandrice/blandlibs/tree/master/libs/overlay/cameraSway'}\n",
      "{'script_name': 'gamescore', 'author': 'blandrice', 'link': '', 'client': 'yes', 'server': '', 'other': '', 'description': 'show points incrementing UI through krunkscript', 'tags': ['overlay', 'customgamescoreUI'], 'category': 'overlay', 'path': 'https://github.com/blandrice/blandlibs/tree/master/libs/overlay/customgamescoreUI'}\n",
      "{'script_name': 'fnitecam', 'author': 'creepycats', 'link': 'https://discord.com/channels/484192043833491487/575245801744498689/1001284132074168341', 'client': '', 'server': '', 'other': 'yes', 'description': 'This script was created for the Krunker Map Remake of Five Nights at Freddys. It has been modified for public use. It has been attached as a map save to provide the user with a demonstration of how it works.', 'tags': ['overlay', 'fiveNightsCamera'], 'category': 'overlay', 'path': 'https://github.com/blandrice/blandlibs/tree/master/libs/overlay/fiveNightsCamera'}\n",
      "{'script_name': 'kbobub_default', 'author': 'Bub Lap', 'link': '', 'client': '', 'server': '', 'other': 'yes', 'description': 'keyboard stuff much like L-U-C-A’s but parameterizable', 'tags': ['overlay', 'keyboardoverlay', 'bub'], 'category': 'overlay', 'path': 'https://github.com/blandrice/blandlibs/tree/master/libs/overlay/keyboardoverlay/bub'}\n",
      "{'script_name': 'kbobub_green', 'author': 'Bub Lap', 'link': '', 'client': '', 'server': '', 'other': 'yes', 'description': '', 'tags': ['overlay', 'keyboardoverlay', 'bub'], 'category': 'overlay', 'path': 'https://github.com/blandrice/blandlibs/tree/master/libs/overlay/keyboardoverlay/bub'}\n",
      "{'script_name': 'kbo_luca', 'author': 'L-U-C-A', 'link': 'https://discord.com/channels/484192043833491487/575245801744498689/965934487169028116', 'client': '', 'server': '', 'other': 'yes', 'description': 'Basic HTML Div-based keyboard', 'tags': ['overlay', 'keyboardoverlay', 'luca'], 'category': 'overlay', 'path': 'https://github.com/blandrice/blandlibs/tree/master/libs/overlay/keyboardoverlay/luca'}\n",
      "{'script_name': 'radar', 'author': 'Andrii', 'link': 'https://discord.com/channels/859947586005368862/862113777946984459/930137214841671750', 'client': 'yes', 'server': '', 'other': '', 'description': 'Player radar overlay feature', 'tags': ['overlay', 'radar'], 'category': 'overlay', 'path': 'https://github.com/blandrice/blandlibs/tree/master/libs/overlay/radar'}\n",
      "{'script_name': 'timer', 'author': 'blandrice', 'link': '', 'client': 'yes', 'server': '', 'other': '', 'description': 'display a timer (total time given by server)', 'tags': ['overlay', 'timer'], 'category': 'overlay', 'path': 'https://github.com/blandrice/blandlibs/tree/master/libs/overlay/timer'}\n",
      "{'script_name': 'timer', 'author': 'blandrice', 'link': '', 'client': '', 'server': 'yes', 'other': '', 'description': 'Timer utility (syncs Client to Server)', 'tags': ['overlay', 'timer'], 'category': 'overlay', 'path': 'https://github.com/blandrice/blandlibs/tree/master/libs/overlay/timer'}\n",
      "{'script_name': 'aabb', 'author': 'KG07', 'link': 'https://discord.com/channels/859947586005368862/862113777946984459/1020742895092891698', 'client': '', 'server': '', 'other': 'yes', 'description': 'AABB (axis-aligned bounding box-box) collision + resolution', 'tags': ['physics', 'collisions'], 'category': 'physics', 'path': 'https://github.com/blandrice/blandlibs/tree/master/libs/physics/collisions'}\n",
      "{'script_name': 'raybox', 'author': 'blandrice', 'link': '', 'client': '', 'server': '', 'other': 'yes', 'description': 'Ray-box intersections in Krunker.', 'tags': ['physics', 'collisions'], 'category': 'physics', 'path': 'https://github.com/blandrice/blandlibs/tree/master/libs/physics/collisions'}\n",
      "{'script_name': 'rotbox', 'author': 'blandrice', 'link': '', 'client': '', 'server': '', 'other': 'yes', 'description': 'rotated bounding box collision', 'tags': ['physics', 'collisions'], 'category': 'physics', 'path': 'https://github.com/blandrice/blandlibs/tree/master/libs/physics/collisions'}\n",
      "{'script_name': 'fade', 'author': 'blandrice', 'link': '', 'client': 'yes', 'server': '', 'other': '', 'description': '', 'tags': ['scene', 'fade'], 'category': 'scene', 'path': 'https://github.com/blandrice/blandlibs/tree/master/libs/scene/fade'}\n",
      "{'script_name': 'fade', 'author': 'blandrice', 'link': '', 'client': '', 'server': 'yes', 'other': '', 'description': '', 'tags': ['scene', 'fade'], 'category': 'scene', 'path': 'https://github.com/blandrice/blandlibs/tree/master/libs/scene/fade'}\n",
      "{'script_name': 'b91', 'author': 'SlxTnT', 'link': '', 'client': '', 'server': '', 'other': 'yes', 'description': 'Base91 decoding converted from https://github.com/KvanTTT/BaseNcoding', 'tags': ['util', 'b91encoding'], 'category': 'util', 'path': 'https://github.com/blandrice/blandlibs/tree/master/libs/util/b91encoding'}\n",
      "{'script_name': 'gpt_strutils', 'author': 'ChatGPT', 'link': '', 'client': '', 'server': '', 'other': 'yes', 'description': 'ChatGPT test on generating string utilities', 'tags': ['util', 'ChatGPT'], 'category': 'util', 'path': 'https://github.com/blandrice/blandlibs/tree/master/libs/util/ChatGPT'}\n",
      "{'script_name': 'gpt_vec', 'author': 'ChatGPT', 'link': '', 'client': '', 'server': '', 'other': 'yes', 'description': 'ChatGPT test on generating vector functions', 'tags': ['util', 'ChatGPT'], 'category': 'util', 'path': 'https://github.com/blandrice/blandlibs/tree/master/libs/util/ChatGPT'}\n",
      "{'script_name': 'dtypes', 'author': 'blandrice', 'link': '', 'client': '', 'server': '', 'other': 'yes', 'description': 'custom float data types--> binary representation calculations.', 'tags': ['util', 'dtypes'], 'category': 'util', 'path': 'https://github.com/blandrice/blandlibs/tree/master/libs/util/dtypes'}\n",
      "{'script_name': 'listutil', 'author': 'blandrice', 'link': '', 'client': '', 'server': '', 'other': 'yes', 'description': 'Additional string utilities', 'tags': ['util', 'lists'], 'category': 'util', 'path': 'https://github.com/blandrice/blandlibs/tree/master/libs/util/lists'}\n",
      "{'script_name': 'prng', 'author': 'Sakurasou', 'link': 'https://discord.com/channels/859947586005368862/862113777946984459/988841369529376839', 'client': '', 'server': '', 'other': 'yes', 'description': 'Custom Seed PRNG (Pseudorandom Number Generator) using SFC32 (Simple Fast Counter) and MurmurHash3', 'tags': ['util', 'PRNG'], 'category': 'util', 'path': 'https://github.com/blandrice/blandlibs/tree/master/libs/util/PRNG'}\n",
      "{'script_name': 'strutils', 'author': 'ProfNoob', 'link': 'https://discord.com/channels/859947586005368862/862113777946984459/957710191590268929', 'client': '', 'server': '', 'other': 'yes', 'description': 'Additional String utilities', 'tags': ['util', 'strutil'], 'category': 'util', 'path': 'https://github.com/blandrice/blandlibs/tree/master/libs/util/strutil'}\n",
      "{'script_name': 'vec', 'author': 'blandrice', 'link': '', 'client': '', 'server': '', 'other': 'yes', 'description': \"blandrice's object-based vector math\", 'tags': ['util', 'vectors'], 'category': 'util', 'path': 'https://github.com/blandrice/blandlibs/tree/master/libs/util/vectors'}\n",
      "{'script_name': 'vec_prof', 'author': 'ProfNoob', 'link': '', 'client': '', 'server': '', 'other': 'yes', 'description': \"Prof's array-based vector library\", 'tags': ['util', 'vectors'], 'category': 'util', 'path': 'https://github.com/blandrice/blandlibs/tree/master/libs/util/vectors'}\n"
     ]
    }
   ],
   "source": [
    "%run -i table.py"
   ]
  },
  {
   "cell_type": "code",
   "execution_count": 143,
   "metadata": {},
   "outputs": [
    {
     "data": {
      "text/html": [
       "<div>\n",
       "<style scoped>\n",
       "    .dataframe tbody tr th:only-of-type {\n",
       "        vertical-align: middle;\n",
       "    }\n",
       "\n",
       "    .dataframe tbody tr th {\n",
       "        vertical-align: top;\n",
       "    }\n",
       "\n",
       "    .dataframe thead th {\n",
       "        text-align: right;\n",
       "    }\n",
       "</style>\n",
       "<table border=\"1\" class=\"dataframe\">\n",
       "  <thead>\n",
       "    <tr style=\"text-align: right;\">\n",
       "      <th></th>\n",
       "      <th>Unnamed: 0</th>\n",
       "      <th>script_name</th>\n",
       "      <th>author</th>\n",
       "      <th>link</th>\n",
       "      <th>client</th>\n",
       "      <th>server</th>\n",
       "      <th>other</th>\n",
       "      <th>description</th>\n",
       "      <th>tags</th>\n",
       "      <th>category</th>\n",
       "      <th>path</th>\n",
       "    </tr>\n",
       "  </thead>\n",
       "  <tbody>\n",
       "    <tr>\n",
       "      <th>0</th>\n",
       "      <td>0</td>\n",
       "      <td>ranksmainmap</td>\n",
       "      <td>blandrice</td>\n",
       "      <td>https://github.com/blandrice/krunkerClansPlus</td>\n",
       "      <td>yes</td>\n",
       "      <td>NaN</td>\n",
       "      <td>NaN</td>\n",
       "      <td>Calculate camera shift between 1st person to 3...</td>\n",
       "      <td>['database', 'clansrank']</td>\n",
       "      <td>database</td>\n",
       "      <td>https://github.com/blandrice/blandlibs/tree/ma...</td>\n",
       "    </tr>\n",
       "    <tr>\n",
       "      <th>1</th>\n",
       "      <td>1</td>\n",
       "      <td>ranksmainmap</td>\n",
       "      <td>blandrice</td>\n",
       "      <td>https://github.com/blandrice/krunkerClansPlus</td>\n",
       "      <td>NaN</td>\n",
       "      <td>yes</td>\n",
       "      <td>NaN</td>\n",
       "      <td>This is a shareable script to display popular ...</td>\n",
       "      <td>['database', 'clansrank']</td>\n",
       "      <td>database</td>\n",
       "      <td>https://github.com/blandrice/blandlibs/tree/ma...</td>\n",
       "    </tr>\n",
       "    <tr>\n",
       "      <th>2</th>\n",
       "      <td>2</td>\n",
       "      <td>ranks</td>\n",
       "      <td>blandrice</td>\n",
       "      <td>https://github.com/blandrice/krunkerClansPlus</td>\n",
       "      <td>yes</td>\n",
       "      <td>NaN</td>\n",
       "      <td>NaN</td>\n",
       "      <td>Create a map in Krunker and copy the client &amp; ...</td>\n",
       "      <td>['database', 'clansrank']</td>\n",
       "      <td>database</td>\n",
       "      <td>https://github.com/blandrice/blandlibs/tree/ma...</td>\n",
       "    </tr>\n",
       "    <tr>\n",
       "      <th>3</th>\n",
       "      <td>3</td>\n",
       "      <td>ranks</td>\n",
       "      <td>NaN</td>\n",
       "      <td>NaN</td>\n",
       "      <td>NaN</td>\n",
       "      <td>yes</td>\n",
       "      <td>NaN</td>\n",
       "      <td>NaN</td>\n",
       "      <td>['database', 'clansrank']</td>\n",
       "      <td>database</td>\n",
       "      <td>https://github.com/blandrice/blandlibs/tree/ma...</td>\n",
       "    </tr>\n",
       "    <tr>\n",
       "      <th>4</th>\n",
       "      <td>4</td>\n",
       "      <td>drawtriangle</td>\n",
       "      <td>Bub Lap</td>\n",
       "      <td>https://discord.com/channels/48419204383349148...</td>\n",
       "      <td>NaN</td>\n",
       "      <td>NaN</td>\n",
       "      <td>yes</td>\n",
       "      <td>Basic drawTriangle action (KrunkScript example)</td>\n",
       "      <td>['examples', 'drawtriangle']</td>\n",
       "      <td>examples</td>\n",
       "      <td>https://github.com/blandrice/blandlibs/tree/ma...</td>\n",
       "    </tr>\n",
       "  </tbody>\n",
       "</table>\n",
       "</div>"
      ],
      "text/plain": [
       "   Unnamed: 0   script_name     author  \\\n",
       "0           0  ranksmainmap  blandrice   \n",
       "1           1  ranksmainmap  blandrice   \n",
       "2           2         ranks  blandrice   \n",
       "3           3         ranks        NaN   \n",
       "4           4  drawtriangle    Bub Lap   \n",
       "\n",
       "                                                link client server other  \\\n",
       "0      https://github.com/blandrice/krunkerClansPlus    yes    NaN   NaN   \n",
       "1      https://github.com/blandrice/krunkerClansPlus    NaN    yes   NaN   \n",
       "2      https://github.com/blandrice/krunkerClansPlus    yes    NaN   NaN   \n",
       "3                                                NaN    NaN    yes   NaN   \n",
       "4  https://discord.com/channels/48419204383349148...    NaN    NaN   yes   \n",
       "\n",
       "                                         description  \\\n",
       "0  Calculate camera shift between 1st person to 3...   \n",
       "1  This is a shareable script to display popular ...   \n",
       "2  Create a map in Krunker and copy the client & ...   \n",
       "3                                                NaN   \n",
       "4    Basic drawTriangle action (KrunkScript example)   \n",
       "\n",
       "                           tags  category  \\\n",
       "0     ['database', 'clansrank']  database   \n",
       "1     ['database', 'clansrank']  database   \n",
       "2     ['database', 'clansrank']  database   \n",
       "3     ['database', 'clansrank']  database   \n",
       "4  ['examples', 'drawtriangle']  examples   \n",
       "\n",
       "                                                path  \n",
       "0  https://github.com/blandrice/blandlibs/tree/ma...  \n",
       "1  https://github.com/blandrice/blandlibs/tree/ma...  \n",
       "2  https://github.com/blandrice/blandlibs/tree/ma...  \n",
       "3  https://github.com/blandrice/blandlibs/tree/ma...  \n",
       "4  https://github.com/blandrice/blandlibs/tree/ma...  "
      ]
     },
     "execution_count": 143,
     "metadata": {},
     "output_type": "execute_result"
    }
   ],
   "source": [
    "import pandas as pd\n",
    "import plotly.express as px\n",
    "df = pd.read_csv(\"table.csv\")\n",
    "df.head()"
   ]
  },
  {
   "cell_type": "code",
   "execution_count": 144,
   "metadata": {},
   "outputs": [],
   "source": [
    "# separate client/server/other df's to merge\n",
    "df_client = df[df['client']=='yes']\n",
    "df_server = df[df['server']=='yes']\n",
    "df_other = df[df['other']==\"yes\"]"
   ]
  },
  {
   "cell_type": "code",
   "execution_count": 145,
   "metadata": {},
   "outputs": [
    {
     "name": "stderr",
     "output_type": "stream",
     "text": [
      "c:\\Users\\Justi\\anaconda3\\envs\\python38\\lib\\site-packages\\pandas\\core\\frame.py:3607: SettingWithCopyWarning:\n",
      "\n",
      "\n",
      "A value is trying to be set on a copy of a slice from a DataFrame.\n",
      "Try using .loc[row_indexer,col_indexer] = value instead\n",
      "\n",
      "See the caveats in the documentation: https://pandas.pydata.org/pandas-docs/stable/user_guide/indexing.html#returning-a-view-versus-a-copy\n",
      "\n"
     ]
    },
    {
     "data": {
      "text/html": [
       "<div>\n",
       "<style scoped>\n",
       "    .dataframe tbody tr th:only-of-type {\n",
       "        vertical-align: middle;\n",
       "    }\n",
       "\n",
       "    .dataframe tbody tr th {\n",
       "        vertical-align: top;\n",
       "    }\n",
       "\n",
       "    .dataframe thead th {\n",
       "        text-align: right;\n",
       "    }\n",
       "</style>\n",
       "<table border=\"1\" class=\"dataframe\">\n",
       "  <thead>\n",
       "    <tr style=\"text-align: right;\">\n",
       "      <th></th>\n",
       "      <th>script_name</th>\n",
       "      <th>author</th>\n",
       "      <th>client</th>\n",
       "      <th>server</th>\n",
       "      <th>other</th>\n",
       "      <th>description</th>\n",
       "      <th>link</th>\n",
       "      <th>category</th>\n",
       "      <th>path</th>\n",
       "      <th>tags</th>\n",
       "    </tr>\n",
       "  </thead>\n",
       "  <tbody>\n",
       "    <tr>\n",
       "      <th>0</th>\n",
       "      <td>aabb</td>\n",
       "      <td>KG07</td>\n",
       "      <td></td>\n",
       "      <td></td>\n",
       "      <td>yes</td>\n",
       "      <td>AABB (axis-aligned bounding box-box) collision...</td>\n",
       "      <td>https://discord.com/channels/85994758600536886...</td>\n",
       "      <td>physics</td>\n",
       "      <td>https://github.com/blandrice/blandlibs/tree/ma...</td>\n",
       "      <td>['physics',  'collisions']</td>\n",
       "    </tr>\n",
       "    <tr>\n",
       "      <th>1</th>\n",
       "      <td>admin</td>\n",
       "      <td>KG07</td>\n",
       "      <td>yes</td>\n",
       "      <td>yes</td>\n",
       "      <td></td>\n",
       "      <td>Admin system code: for map makers who doesn’t ...</td>\n",
       "      <td>https://github.com/KG07/admin_system_version1</td>\n",
       "      <td>gameutil</td>\n",
       "      <td>https://github.com/blandrice/blandlibs/tree/ma...</td>\n",
       "      <td>['gameutil',  'admin']</td>\n",
       "    </tr>\n",
       "    <tr>\n",
       "      <th>2</th>\n",
       "      <td>b91</td>\n",
       "      <td>SlxTnT</td>\n",
       "      <td></td>\n",
       "      <td></td>\n",
       "      <td>yes</td>\n",
       "      <td>Base91 decoding converted from https://github....</td>\n",
       "      <td></td>\n",
       "      <td>util</td>\n",
       "      <td>https://github.com/blandrice/blandlibs/tree/ma...</td>\n",
       "      <td>['util',  'b91encoding']</td>\n",
       "    </tr>\n",
       "    <tr>\n",
       "      <th>3</th>\n",
       "      <td>camsway</td>\n",
       "      <td>creepycats</td>\n",
       "      <td>yes</td>\n",
       "      <td></td>\n",
       "      <td></td>\n",
       "      <td>sway camera when moving left and right</td>\n",
       "      <td>https://discord.com/channels/48419204383349148...</td>\n",
       "      <td>overlay</td>\n",
       "      <td>https://github.com/blandrice/blandlibs/tree/ma...</td>\n",
       "      <td>['overlay',  'cameraSway']</td>\n",
       "    </tr>\n",
       "    <tr>\n",
       "      <th>4</th>\n",
       "      <td>checkpoint</td>\n",
       "      <td>Sakurasou</td>\n",
       "      <td></td>\n",
       "      <td></td>\n",
       "      <td>yes</td>\n",
       "      <td>Changes the names of the Checkpoints on the Sp...</td>\n",
       "      <td>https://discord.com/channels/48419204383349148...</td>\n",
       "      <td>gameutil</td>\n",
       "      <td>https://github.com/blandrice/blandlibs/tree/ma...</td>\n",
       "      <td>['gameutil',  'checkpoint']</td>\n",
       "    </tr>\n",
       "  </tbody>\n",
       "</table>\n",
       "</div>"
      ],
      "text/plain": [
       "  script_name      author client server other  \\\n",
       "0        aabb        KG07                 yes   \n",
       "1       admin        KG07    yes    yes         \n",
       "2         b91      SlxTnT                 yes   \n",
       "3     camsway  creepycats    yes                \n",
       "4  checkpoint   Sakurasou                 yes   \n",
       "\n",
       "                                         description  \\\n",
       "0  AABB (axis-aligned bounding box-box) collision...   \n",
       "1  Admin system code: for map makers who doesn’t ...   \n",
       "2  Base91 decoding converted from https://github....   \n",
       "3             sway camera when moving left and right   \n",
       "4  Changes the names of the Checkpoints on the Sp...   \n",
       "\n",
       "                                                link  category  \\\n",
       "0  https://discord.com/channels/85994758600536886...   physics   \n",
       "1      https://github.com/KG07/admin_system_version1  gameutil   \n",
       "2                                                         util   \n",
       "3  https://discord.com/channels/48419204383349148...   overlay   \n",
       "4  https://discord.com/channels/48419204383349148...  gameutil   \n",
       "\n",
       "                                                path  \\\n",
       "0  https://github.com/blandrice/blandlibs/tree/ma...   \n",
       "1  https://github.com/blandrice/blandlibs/tree/ma...   \n",
       "2  https://github.com/blandrice/blandlibs/tree/ma...   \n",
       "3  https://github.com/blandrice/blandlibs/tree/ma...   \n",
       "4  https://github.com/blandrice/blandlibs/tree/ma...   \n",
       "\n",
       "                          tags  \n",
       "0   ['physics',  'collisions']  \n",
       "1       ['gameutil',  'admin']  \n",
       "2     ['util',  'b91encoding']  \n",
       "3   ['overlay',  'cameraSway']  \n",
       "4  ['gameutil',  'checkpoint']  "
      ]
     },
     "execution_count": 145,
     "metadata": {},
     "output_type": "execute_result"
    }
   ],
   "source": [
    "\n",
    "# merge results\n",
    "result = pd.merge(df_client,df_server,how=\"outer\",on=[\"script_name\"])\n",
    "result = pd.merge(result,df_other,how=\"outer\",on=[\"script_name\"])\n",
    "result = result.fillna(\"\")\n",
    "# show field by most populated string\n",
    "for field in ['author','client','server','other','description','link','tags','path','category']:\n",
    "    result[field] = result.apply(lambda x:( x[field] if len(x[field]) > len(x[field + '_x']) else x[field + '_x']),axis=1)\n",
    "    result[field] = result.apply(lambda x:( x[field] if len(x[field]) > len(x[field + '_y']) else x[field + '_y']),axis=1)\n",
    "\n",
    "# simplified table\n",
    "simple_results = result[['script_name','author','client','server','other','description','link','category','path','tags']]\n",
    "simple_results['tags'] = simple_results['tags'].apply(lambda x: x[1:-1].split(','))\n",
    "simple_results = simple_results.sort_values(\"script_name\",ascending=True)\n",
    "simple_results = simple_results.reset_index(drop=True)\n",
    "simple_results.to_csv(\"KrunkScriptTable.csv\")\n",
    "simple_results.to_markdown(\"KrunkScriptTable.md\")\n",
    "\n",
    "# github table saved\n",
    "def line_prepender(filename, line):\n",
    "    with open(filename, 'r+') as f:\n",
    "        content = f.read()\n",
    "        f.seek(0, 0)\n",
    "        f.write(line.rstrip('\\r\\n') + '\\n' + content)\n",
    "line_prepender(\"KrunkScriptTable.md\",\"# Table of Krunkscripts\")\n",
    "simple_results.head()"
   ]
  },
  {
   "cell_type": "code",
   "execution_count": 146,
   "metadata": {},
   "outputs": [],
   "source": [
    "# overall # of scripts / contributors\n",
    "text = \"KrunkScripts: \" + str(simple_results.shape[0])\n",
    "text2 = \"Contributors: \" + str(len(simple_results['author'].unique().tolist()))\n",
    "\n",
    "from PIL import Image, ImageDraw, ImageFont\n",
    "import os\n",
    " \n",
    "def text_on_img(filename='cnt_krunkscript.png', text=\"Hello\", size=24):\n",
    "\twidth = 300\n",
    "\theight = 70\n",
    "\t\"Draw a text on an Image, saves it, show it\"\n",
    "\tfnt = ImageFont.truetype('krunkerfont.ttf', size)\n",
    "\t# create image\n",
    "\timage = Image.new(mode = \"RGB\", size = (width,height), color = \"white\")\n",
    "\tdraw = ImageDraw.Draw(image)\n",
    "\t# draw text\n",
    "\tw, h = draw.textsize(text,font=fnt)\n",
    "\tdraw.text(((width-w)/2, (height-h)/2), text, font=fnt, fill=(0,255,0))\n",
    "\t# save file\n",
    "\timage.save(filename)\n",
    "\t# show file\n",
    "\t# os.system(filename)\n",
    " \n",
    " \n",
    "text_on_img(filename=\"cnt_krunkscript.png\",text=text, size=20)\n",
    "text_on_img(filename=\"cnt_contributors.png\",text=text2, size=20)"
   ]
  },
  {
   "cell_type": "code",
   "execution_count": 147,
   "metadata": {},
   "outputs": [
    {
     "data": {
      "application/vnd.plotly.v1+json": {
       "config": {
        "plotlyServerURL": "https://plot.ly"
       },
       "data": [
        {
         "alignmentgroup": "True",
         "hovertemplate": "variable=category<br>value=%{x}<br>index=%{y}<extra></extra>",
         "legendgroup": "category",
         "marker": {
          "color": "#636efa",
          "pattern": {
           "shape": ""
          }
         },
         "name": "category",
         "offsetgroup": "category",
         "orientation": "h",
         "showlegend": true,
         "textposition": "auto",
         "texttemplate": "%{x}",
         "type": "bar",
         "x": [
          1,
          1,
          2,
          2,
          3,
          5,
          8,
          8,
          9
         ],
         "xaxis": "x",
         "y": [
          "examples",
          "scene",
          "database",
          "network",
          "physics",
          "game",
          "gameutil",
          "overlay",
          "util"
         ],
         "yaxis": "y"
        }
       ],
       "layout": {
        "barmode": "relative",
        "legend": {
         "title": {
          "text": "variable"
         },
         "tracegroupgap": 0
        },
        "template": {
         "data": {
          "bar": [
           {
            "error_x": {
             "color": "#2a3f5f"
            },
            "error_y": {
             "color": "#2a3f5f"
            },
            "marker": {
             "line": {
              "color": "#E5ECF6",
              "width": 0.5
             },
             "pattern": {
              "fillmode": "overlay",
              "size": 10,
              "solidity": 0.2
             }
            },
            "type": "bar"
           }
          ],
          "barpolar": [
           {
            "marker": {
             "line": {
              "color": "#E5ECF6",
              "width": 0.5
             },
             "pattern": {
              "fillmode": "overlay",
              "size": 10,
              "solidity": 0.2
             }
            },
            "type": "barpolar"
           }
          ],
          "carpet": [
           {
            "aaxis": {
             "endlinecolor": "#2a3f5f",
             "gridcolor": "white",
             "linecolor": "white",
             "minorgridcolor": "white",
             "startlinecolor": "#2a3f5f"
            },
            "baxis": {
             "endlinecolor": "#2a3f5f",
             "gridcolor": "white",
             "linecolor": "white",
             "minorgridcolor": "white",
             "startlinecolor": "#2a3f5f"
            },
            "type": "carpet"
           }
          ],
          "choropleth": [
           {
            "colorbar": {
             "outlinewidth": 0,
             "ticks": ""
            },
            "type": "choropleth"
           }
          ],
          "contour": [
           {
            "colorbar": {
             "outlinewidth": 0,
             "ticks": ""
            },
            "colorscale": [
             [
              0,
              "#0d0887"
             ],
             [
              0.1111111111111111,
              "#46039f"
             ],
             [
              0.2222222222222222,
              "#7201a8"
             ],
             [
              0.3333333333333333,
              "#9c179e"
             ],
             [
              0.4444444444444444,
              "#bd3786"
             ],
             [
              0.5555555555555556,
              "#d8576b"
             ],
             [
              0.6666666666666666,
              "#ed7953"
             ],
             [
              0.7777777777777778,
              "#fb9f3a"
             ],
             [
              0.8888888888888888,
              "#fdca26"
             ],
             [
              1,
              "#f0f921"
             ]
            ],
            "type": "contour"
           }
          ],
          "contourcarpet": [
           {
            "colorbar": {
             "outlinewidth": 0,
             "ticks": ""
            },
            "type": "contourcarpet"
           }
          ],
          "heatmap": [
           {
            "colorbar": {
             "outlinewidth": 0,
             "ticks": ""
            },
            "colorscale": [
             [
              0,
              "#0d0887"
             ],
             [
              0.1111111111111111,
              "#46039f"
             ],
             [
              0.2222222222222222,
              "#7201a8"
             ],
             [
              0.3333333333333333,
              "#9c179e"
             ],
             [
              0.4444444444444444,
              "#bd3786"
             ],
             [
              0.5555555555555556,
              "#d8576b"
             ],
             [
              0.6666666666666666,
              "#ed7953"
             ],
             [
              0.7777777777777778,
              "#fb9f3a"
             ],
             [
              0.8888888888888888,
              "#fdca26"
             ],
             [
              1,
              "#f0f921"
             ]
            ],
            "type": "heatmap"
           }
          ],
          "heatmapgl": [
           {
            "colorbar": {
             "outlinewidth": 0,
             "ticks": ""
            },
            "colorscale": [
             [
              0,
              "#0d0887"
             ],
             [
              0.1111111111111111,
              "#46039f"
             ],
             [
              0.2222222222222222,
              "#7201a8"
             ],
             [
              0.3333333333333333,
              "#9c179e"
             ],
             [
              0.4444444444444444,
              "#bd3786"
             ],
             [
              0.5555555555555556,
              "#d8576b"
             ],
             [
              0.6666666666666666,
              "#ed7953"
             ],
             [
              0.7777777777777778,
              "#fb9f3a"
             ],
             [
              0.8888888888888888,
              "#fdca26"
             ],
             [
              1,
              "#f0f921"
             ]
            ],
            "type": "heatmapgl"
           }
          ],
          "histogram": [
           {
            "marker": {
             "pattern": {
              "fillmode": "overlay",
              "size": 10,
              "solidity": 0.2
             }
            },
            "type": "histogram"
           }
          ],
          "histogram2d": [
           {
            "colorbar": {
             "outlinewidth": 0,
             "ticks": ""
            },
            "colorscale": [
             [
              0,
              "#0d0887"
             ],
             [
              0.1111111111111111,
              "#46039f"
             ],
             [
              0.2222222222222222,
              "#7201a8"
             ],
             [
              0.3333333333333333,
              "#9c179e"
             ],
             [
              0.4444444444444444,
              "#bd3786"
             ],
             [
              0.5555555555555556,
              "#d8576b"
             ],
             [
              0.6666666666666666,
              "#ed7953"
             ],
             [
              0.7777777777777778,
              "#fb9f3a"
             ],
             [
              0.8888888888888888,
              "#fdca26"
             ],
             [
              1,
              "#f0f921"
             ]
            ],
            "type": "histogram2d"
           }
          ],
          "histogram2dcontour": [
           {
            "colorbar": {
             "outlinewidth": 0,
             "ticks": ""
            },
            "colorscale": [
             [
              0,
              "#0d0887"
             ],
             [
              0.1111111111111111,
              "#46039f"
             ],
             [
              0.2222222222222222,
              "#7201a8"
             ],
             [
              0.3333333333333333,
              "#9c179e"
             ],
             [
              0.4444444444444444,
              "#bd3786"
             ],
             [
              0.5555555555555556,
              "#d8576b"
             ],
             [
              0.6666666666666666,
              "#ed7953"
             ],
             [
              0.7777777777777778,
              "#fb9f3a"
             ],
             [
              0.8888888888888888,
              "#fdca26"
             ],
             [
              1,
              "#f0f921"
             ]
            ],
            "type": "histogram2dcontour"
           }
          ],
          "mesh3d": [
           {
            "colorbar": {
             "outlinewidth": 0,
             "ticks": ""
            },
            "type": "mesh3d"
           }
          ],
          "parcoords": [
           {
            "line": {
             "colorbar": {
              "outlinewidth": 0,
              "ticks": ""
             }
            },
            "type": "parcoords"
           }
          ],
          "pie": [
           {
            "automargin": true,
            "type": "pie"
           }
          ],
          "scatter": [
           {
            "fillpattern": {
             "fillmode": "overlay",
             "size": 10,
             "solidity": 0.2
            },
            "type": "scatter"
           }
          ],
          "scatter3d": [
           {
            "line": {
             "colorbar": {
              "outlinewidth": 0,
              "ticks": ""
             }
            },
            "marker": {
             "colorbar": {
              "outlinewidth": 0,
              "ticks": ""
             }
            },
            "type": "scatter3d"
           }
          ],
          "scattercarpet": [
           {
            "marker": {
             "colorbar": {
              "outlinewidth": 0,
              "ticks": ""
             }
            },
            "type": "scattercarpet"
           }
          ],
          "scattergeo": [
           {
            "marker": {
             "colorbar": {
              "outlinewidth": 0,
              "ticks": ""
             }
            },
            "type": "scattergeo"
           }
          ],
          "scattergl": [
           {
            "marker": {
             "colorbar": {
              "outlinewidth": 0,
              "ticks": ""
             }
            },
            "type": "scattergl"
           }
          ],
          "scattermapbox": [
           {
            "marker": {
             "colorbar": {
              "outlinewidth": 0,
              "ticks": ""
             }
            },
            "type": "scattermapbox"
           }
          ],
          "scatterpolar": [
           {
            "marker": {
             "colorbar": {
              "outlinewidth": 0,
              "ticks": ""
             }
            },
            "type": "scatterpolar"
           }
          ],
          "scatterpolargl": [
           {
            "marker": {
             "colorbar": {
              "outlinewidth": 0,
              "ticks": ""
             }
            },
            "type": "scatterpolargl"
           }
          ],
          "scatterternary": [
           {
            "marker": {
             "colorbar": {
              "outlinewidth": 0,
              "ticks": ""
             }
            },
            "type": "scatterternary"
           }
          ],
          "surface": [
           {
            "colorbar": {
             "outlinewidth": 0,
             "ticks": ""
            },
            "colorscale": [
             [
              0,
              "#0d0887"
             ],
             [
              0.1111111111111111,
              "#46039f"
             ],
             [
              0.2222222222222222,
              "#7201a8"
             ],
             [
              0.3333333333333333,
              "#9c179e"
             ],
             [
              0.4444444444444444,
              "#bd3786"
             ],
             [
              0.5555555555555556,
              "#d8576b"
             ],
             [
              0.6666666666666666,
              "#ed7953"
             ],
             [
              0.7777777777777778,
              "#fb9f3a"
             ],
             [
              0.8888888888888888,
              "#fdca26"
             ],
             [
              1,
              "#f0f921"
             ]
            ],
            "type": "surface"
           }
          ],
          "table": [
           {
            "cells": {
             "fill": {
              "color": "#EBF0F8"
             },
             "line": {
              "color": "white"
             }
            },
            "header": {
             "fill": {
              "color": "#C8D4E3"
             },
             "line": {
              "color": "white"
             }
            },
            "type": "table"
           }
          ]
         },
         "layout": {
          "annotationdefaults": {
           "arrowcolor": "#2a3f5f",
           "arrowhead": 0,
           "arrowwidth": 1
          },
          "autotypenumbers": "strict",
          "coloraxis": {
           "colorbar": {
            "outlinewidth": 0,
            "ticks": ""
           }
          },
          "colorscale": {
           "diverging": [
            [
             0,
             "#8e0152"
            ],
            [
             0.1,
             "#c51b7d"
            ],
            [
             0.2,
             "#de77ae"
            ],
            [
             0.3,
             "#f1b6da"
            ],
            [
             0.4,
             "#fde0ef"
            ],
            [
             0.5,
             "#f7f7f7"
            ],
            [
             0.6,
             "#e6f5d0"
            ],
            [
             0.7,
             "#b8e186"
            ],
            [
             0.8,
             "#7fbc41"
            ],
            [
             0.9,
             "#4d9221"
            ],
            [
             1,
             "#276419"
            ]
           ],
           "sequential": [
            [
             0,
             "#0d0887"
            ],
            [
             0.1111111111111111,
             "#46039f"
            ],
            [
             0.2222222222222222,
             "#7201a8"
            ],
            [
             0.3333333333333333,
             "#9c179e"
            ],
            [
             0.4444444444444444,
             "#bd3786"
            ],
            [
             0.5555555555555556,
             "#d8576b"
            ],
            [
             0.6666666666666666,
             "#ed7953"
            ],
            [
             0.7777777777777778,
             "#fb9f3a"
            ],
            [
             0.8888888888888888,
             "#fdca26"
            ],
            [
             1,
             "#f0f921"
            ]
           ],
           "sequentialminus": [
            [
             0,
             "#0d0887"
            ],
            [
             0.1111111111111111,
             "#46039f"
            ],
            [
             0.2222222222222222,
             "#7201a8"
            ],
            [
             0.3333333333333333,
             "#9c179e"
            ],
            [
             0.4444444444444444,
             "#bd3786"
            ],
            [
             0.5555555555555556,
             "#d8576b"
            ],
            [
             0.6666666666666666,
             "#ed7953"
            ],
            [
             0.7777777777777778,
             "#fb9f3a"
            ],
            [
             0.8888888888888888,
             "#fdca26"
            ],
            [
             1,
             "#f0f921"
            ]
           ]
          },
          "colorway": [
           "#636efa",
           "#EF553B",
           "#00cc96",
           "#ab63fa",
           "#FFA15A",
           "#19d3f3",
           "#FF6692",
           "#B6E880",
           "#FF97FF",
           "#FECB52"
          ],
          "font": {
           "color": "#2a3f5f"
          },
          "geo": {
           "bgcolor": "white",
           "lakecolor": "white",
           "landcolor": "#E5ECF6",
           "showlakes": true,
           "showland": true,
           "subunitcolor": "white"
          },
          "hoverlabel": {
           "align": "left"
          },
          "hovermode": "closest",
          "mapbox": {
           "style": "light"
          },
          "paper_bgcolor": "white",
          "plot_bgcolor": "#E5ECF6",
          "polar": {
           "angularaxis": {
            "gridcolor": "white",
            "linecolor": "white",
            "ticks": ""
           },
           "bgcolor": "#E5ECF6",
           "radialaxis": {
            "gridcolor": "white",
            "linecolor": "white",
            "ticks": ""
           }
          },
          "scene": {
           "xaxis": {
            "backgroundcolor": "#E5ECF6",
            "gridcolor": "white",
            "gridwidth": 2,
            "linecolor": "white",
            "showbackground": true,
            "ticks": "",
            "zerolinecolor": "white"
           },
           "yaxis": {
            "backgroundcolor": "#E5ECF6",
            "gridcolor": "white",
            "gridwidth": 2,
            "linecolor": "white",
            "showbackground": true,
            "ticks": "",
            "zerolinecolor": "white"
           },
           "zaxis": {
            "backgroundcolor": "#E5ECF6",
            "gridcolor": "white",
            "gridwidth": 2,
            "linecolor": "white",
            "showbackground": true,
            "ticks": "",
            "zerolinecolor": "white"
           }
          },
          "shapedefaults": {
           "line": {
            "color": "#2a3f5f"
           }
          },
          "ternary": {
           "aaxis": {
            "gridcolor": "white",
            "linecolor": "white",
            "ticks": ""
           },
           "baxis": {
            "gridcolor": "white",
            "linecolor": "white",
            "ticks": ""
           },
           "bgcolor": "#E5ECF6",
           "caxis": {
            "gridcolor": "white",
            "linecolor": "white",
            "ticks": ""
           }
          },
          "title": {
           "x": 0.05
          },
          "xaxis": {
           "automargin": true,
           "gridcolor": "white",
           "linecolor": "white",
           "ticks": "",
           "title": {
            "standoff": 15
           },
           "zerolinecolor": "white",
           "zerolinewidth": 2
          },
          "yaxis": {
           "automargin": true,
           "gridcolor": "white",
           "linecolor": "white",
           "ticks": "",
           "title": {
            "standoff": 15
           },
           "zerolinecolor": "white",
           "zerolinewidth": 2
          }
         }
        },
        "title": {
         "text": "# KrunkScripts per category"
        },
        "xaxis": {
         "anchor": "y",
         "domain": [
          0,
          1
         ],
         "title": {
          "text": "count"
         }
        },
        "yaxis": {
         "anchor": "x",
         "domain": [
          0,
          1
         ],
         "title": {
          "text": "category"
         }
        }
       }
      }
     },
     "metadata": {},
     "output_type": "display_data"
    }
   ],
   "source": [
    "# bar chart by category\n",
    "field = \"category\"\n",
    "results_groupby = simple_results.groupby(field)[field].count()\n",
    "fig = px.bar(results_groupby.sort_values(ascending=True),orientation=\"h\",title=\"# KrunkScripts per category\",text_auto=True)\n",
    "fig.update_layout(\n",
    "    yaxis_title=\"category\",\n",
    "    xaxis_title=\"count\"\n",
    ")\n",
    "fig.show()\n",
    "fig.write_image(\"category.png\") \n"
   ]
  },
  {
   "cell_type": "code",
   "execution_count": 148,
   "metadata": {},
   "outputs": [
    {
     "data": {
      "application/vnd.plotly.v1+json": {
       "config": {
        "plotlyServerURL": "https://plot.ly"
       },
       "data": [
        {
         "domain": {
          "x": [
           0,
           1
          ],
          "y": [
           0,
           1
          ]
         },
         "hovertemplate": "author=%{label}<br>count=%{value}<extra></extra>",
         "labels": [
          "Andrii",
          "Bub Lap",
          "ChatGPT",
          "DQ Swat",
          "DukeV",
          "KG07",
          "L-U-C-A",
          "ProfNoob",
          "Sakurasou",
          "SlxTnT",
          "blandrice",
          "creepycats"
         ],
         "legendgroup": "",
         "name": "",
         "showlegend": true,
         "textinfo": "value",
         "type": "pie",
         "values": [
          1,
          3,
          2,
          1,
          1,
          2,
          1,
          2,
          2,
          2,
          20,
          2
         ]
        }
       ],
       "layout": {
        "legend": {
         "tracegroupgap": 0
        },
        "margin": {
         "t": 60
        },
        "template": {
         "data": {
          "bar": [
           {
            "error_x": {
             "color": "#2a3f5f"
            },
            "error_y": {
             "color": "#2a3f5f"
            },
            "marker": {
             "line": {
              "color": "#E5ECF6",
              "width": 0.5
             },
             "pattern": {
              "fillmode": "overlay",
              "size": 10,
              "solidity": 0.2
             }
            },
            "type": "bar"
           }
          ],
          "barpolar": [
           {
            "marker": {
             "line": {
              "color": "#E5ECF6",
              "width": 0.5
             },
             "pattern": {
              "fillmode": "overlay",
              "size": 10,
              "solidity": 0.2
             }
            },
            "type": "barpolar"
           }
          ],
          "carpet": [
           {
            "aaxis": {
             "endlinecolor": "#2a3f5f",
             "gridcolor": "white",
             "linecolor": "white",
             "minorgridcolor": "white",
             "startlinecolor": "#2a3f5f"
            },
            "baxis": {
             "endlinecolor": "#2a3f5f",
             "gridcolor": "white",
             "linecolor": "white",
             "minorgridcolor": "white",
             "startlinecolor": "#2a3f5f"
            },
            "type": "carpet"
           }
          ],
          "choropleth": [
           {
            "colorbar": {
             "outlinewidth": 0,
             "ticks": ""
            },
            "type": "choropleth"
           }
          ],
          "contour": [
           {
            "colorbar": {
             "outlinewidth": 0,
             "ticks": ""
            },
            "colorscale": [
             [
              0,
              "#0d0887"
             ],
             [
              0.1111111111111111,
              "#46039f"
             ],
             [
              0.2222222222222222,
              "#7201a8"
             ],
             [
              0.3333333333333333,
              "#9c179e"
             ],
             [
              0.4444444444444444,
              "#bd3786"
             ],
             [
              0.5555555555555556,
              "#d8576b"
             ],
             [
              0.6666666666666666,
              "#ed7953"
             ],
             [
              0.7777777777777778,
              "#fb9f3a"
             ],
             [
              0.8888888888888888,
              "#fdca26"
             ],
             [
              1,
              "#f0f921"
             ]
            ],
            "type": "contour"
           }
          ],
          "contourcarpet": [
           {
            "colorbar": {
             "outlinewidth": 0,
             "ticks": ""
            },
            "type": "contourcarpet"
           }
          ],
          "heatmap": [
           {
            "colorbar": {
             "outlinewidth": 0,
             "ticks": ""
            },
            "colorscale": [
             [
              0,
              "#0d0887"
             ],
             [
              0.1111111111111111,
              "#46039f"
             ],
             [
              0.2222222222222222,
              "#7201a8"
             ],
             [
              0.3333333333333333,
              "#9c179e"
             ],
             [
              0.4444444444444444,
              "#bd3786"
             ],
             [
              0.5555555555555556,
              "#d8576b"
             ],
             [
              0.6666666666666666,
              "#ed7953"
             ],
             [
              0.7777777777777778,
              "#fb9f3a"
             ],
             [
              0.8888888888888888,
              "#fdca26"
             ],
             [
              1,
              "#f0f921"
             ]
            ],
            "type": "heatmap"
           }
          ],
          "heatmapgl": [
           {
            "colorbar": {
             "outlinewidth": 0,
             "ticks": ""
            },
            "colorscale": [
             [
              0,
              "#0d0887"
             ],
             [
              0.1111111111111111,
              "#46039f"
             ],
             [
              0.2222222222222222,
              "#7201a8"
             ],
             [
              0.3333333333333333,
              "#9c179e"
             ],
             [
              0.4444444444444444,
              "#bd3786"
             ],
             [
              0.5555555555555556,
              "#d8576b"
             ],
             [
              0.6666666666666666,
              "#ed7953"
             ],
             [
              0.7777777777777778,
              "#fb9f3a"
             ],
             [
              0.8888888888888888,
              "#fdca26"
             ],
             [
              1,
              "#f0f921"
             ]
            ],
            "type": "heatmapgl"
           }
          ],
          "histogram": [
           {
            "marker": {
             "pattern": {
              "fillmode": "overlay",
              "size": 10,
              "solidity": 0.2
             }
            },
            "type": "histogram"
           }
          ],
          "histogram2d": [
           {
            "colorbar": {
             "outlinewidth": 0,
             "ticks": ""
            },
            "colorscale": [
             [
              0,
              "#0d0887"
             ],
             [
              0.1111111111111111,
              "#46039f"
             ],
             [
              0.2222222222222222,
              "#7201a8"
             ],
             [
              0.3333333333333333,
              "#9c179e"
             ],
             [
              0.4444444444444444,
              "#bd3786"
             ],
             [
              0.5555555555555556,
              "#d8576b"
             ],
             [
              0.6666666666666666,
              "#ed7953"
             ],
             [
              0.7777777777777778,
              "#fb9f3a"
             ],
             [
              0.8888888888888888,
              "#fdca26"
             ],
             [
              1,
              "#f0f921"
             ]
            ],
            "type": "histogram2d"
           }
          ],
          "histogram2dcontour": [
           {
            "colorbar": {
             "outlinewidth": 0,
             "ticks": ""
            },
            "colorscale": [
             [
              0,
              "#0d0887"
             ],
             [
              0.1111111111111111,
              "#46039f"
             ],
             [
              0.2222222222222222,
              "#7201a8"
             ],
             [
              0.3333333333333333,
              "#9c179e"
             ],
             [
              0.4444444444444444,
              "#bd3786"
             ],
             [
              0.5555555555555556,
              "#d8576b"
             ],
             [
              0.6666666666666666,
              "#ed7953"
             ],
             [
              0.7777777777777778,
              "#fb9f3a"
             ],
             [
              0.8888888888888888,
              "#fdca26"
             ],
             [
              1,
              "#f0f921"
             ]
            ],
            "type": "histogram2dcontour"
           }
          ],
          "mesh3d": [
           {
            "colorbar": {
             "outlinewidth": 0,
             "ticks": ""
            },
            "type": "mesh3d"
           }
          ],
          "parcoords": [
           {
            "line": {
             "colorbar": {
              "outlinewidth": 0,
              "ticks": ""
             }
            },
            "type": "parcoords"
           }
          ],
          "pie": [
           {
            "automargin": true,
            "type": "pie"
           }
          ],
          "scatter": [
           {
            "fillpattern": {
             "fillmode": "overlay",
             "size": 10,
             "solidity": 0.2
            },
            "type": "scatter"
           }
          ],
          "scatter3d": [
           {
            "line": {
             "colorbar": {
              "outlinewidth": 0,
              "ticks": ""
             }
            },
            "marker": {
             "colorbar": {
              "outlinewidth": 0,
              "ticks": ""
             }
            },
            "type": "scatter3d"
           }
          ],
          "scattercarpet": [
           {
            "marker": {
             "colorbar": {
              "outlinewidth": 0,
              "ticks": ""
             }
            },
            "type": "scattercarpet"
           }
          ],
          "scattergeo": [
           {
            "marker": {
             "colorbar": {
              "outlinewidth": 0,
              "ticks": ""
             }
            },
            "type": "scattergeo"
           }
          ],
          "scattergl": [
           {
            "marker": {
             "colorbar": {
              "outlinewidth": 0,
              "ticks": ""
             }
            },
            "type": "scattergl"
           }
          ],
          "scattermapbox": [
           {
            "marker": {
             "colorbar": {
              "outlinewidth": 0,
              "ticks": ""
             }
            },
            "type": "scattermapbox"
           }
          ],
          "scatterpolar": [
           {
            "marker": {
             "colorbar": {
              "outlinewidth": 0,
              "ticks": ""
             }
            },
            "type": "scatterpolar"
           }
          ],
          "scatterpolargl": [
           {
            "marker": {
             "colorbar": {
              "outlinewidth": 0,
              "ticks": ""
             }
            },
            "type": "scatterpolargl"
           }
          ],
          "scatterternary": [
           {
            "marker": {
             "colorbar": {
              "outlinewidth": 0,
              "ticks": ""
             }
            },
            "type": "scatterternary"
           }
          ],
          "surface": [
           {
            "colorbar": {
             "outlinewidth": 0,
             "ticks": ""
            },
            "colorscale": [
             [
              0,
              "#0d0887"
             ],
             [
              0.1111111111111111,
              "#46039f"
             ],
             [
              0.2222222222222222,
              "#7201a8"
             ],
             [
              0.3333333333333333,
              "#9c179e"
             ],
             [
              0.4444444444444444,
              "#bd3786"
             ],
             [
              0.5555555555555556,
              "#d8576b"
             ],
             [
              0.6666666666666666,
              "#ed7953"
             ],
             [
              0.7777777777777778,
              "#fb9f3a"
             ],
             [
              0.8888888888888888,
              "#fdca26"
             ],
             [
              1,
              "#f0f921"
             ]
            ],
            "type": "surface"
           }
          ],
          "table": [
           {
            "cells": {
             "fill": {
              "color": "#EBF0F8"
             },
             "line": {
              "color": "white"
             }
            },
            "header": {
             "fill": {
              "color": "#C8D4E3"
             },
             "line": {
              "color": "white"
             }
            },
            "type": "table"
           }
          ]
         },
         "layout": {
          "annotationdefaults": {
           "arrowcolor": "#2a3f5f",
           "arrowhead": 0,
           "arrowwidth": 1
          },
          "autotypenumbers": "strict",
          "coloraxis": {
           "colorbar": {
            "outlinewidth": 0,
            "ticks": ""
           }
          },
          "colorscale": {
           "diverging": [
            [
             0,
             "#8e0152"
            ],
            [
             0.1,
             "#c51b7d"
            ],
            [
             0.2,
             "#de77ae"
            ],
            [
             0.3,
             "#f1b6da"
            ],
            [
             0.4,
             "#fde0ef"
            ],
            [
             0.5,
             "#f7f7f7"
            ],
            [
             0.6,
             "#e6f5d0"
            ],
            [
             0.7,
             "#b8e186"
            ],
            [
             0.8,
             "#7fbc41"
            ],
            [
             0.9,
             "#4d9221"
            ],
            [
             1,
             "#276419"
            ]
           ],
           "sequential": [
            [
             0,
             "#0d0887"
            ],
            [
             0.1111111111111111,
             "#46039f"
            ],
            [
             0.2222222222222222,
             "#7201a8"
            ],
            [
             0.3333333333333333,
             "#9c179e"
            ],
            [
             0.4444444444444444,
             "#bd3786"
            ],
            [
             0.5555555555555556,
             "#d8576b"
            ],
            [
             0.6666666666666666,
             "#ed7953"
            ],
            [
             0.7777777777777778,
             "#fb9f3a"
            ],
            [
             0.8888888888888888,
             "#fdca26"
            ],
            [
             1,
             "#f0f921"
            ]
           ],
           "sequentialminus": [
            [
             0,
             "#0d0887"
            ],
            [
             0.1111111111111111,
             "#46039f"
            ],
            [
             0.2222222222222222,
             "#7201a8"
            ],
            [
             0.3333333333333333,
             "#9c179e"
            ],
            [
             0.4444444444444444,
             "#bd3786"
            ],
            [
             0.5555555555555556,
             "#d8576b"
            ],
            [
             0.6666666666666666,
             "#ed7953"
            ],
            [
             0.7777777777777778,
             "#fb9f3a"
            ],
            [
             0.8888888888888888,
             "#fdca26"
            ],
            [
             1,
             "#f0f921"
            ]
           ]
          },
          "colorway": [
           "#636efa",
           "#EF553B",
           "#00cc96",
           "#ab63fa",
           "#FFA15A",
           "#19d3f3",
           "#FF6692",
           "#B6E880",
           "#FF97FF",
           "#FECB52"
          ],
          "font": {
           "color": "#2a3f5f"
          },
          "geo": {
           "bgcolor": "white",
           "lakecolor": "white",
           "landcolor": "#E5ECF6",
           "showlakes": true,
           "showland": true,
           "subunitcolor": "white"
          },
          "hoverlabel": {
           "align": "left"
          },
          "hovermode": "closest",
          "mapbox": {
           "style": "light"
          },
          "paper_bgcolor": "white",
          "plot_bgcolor": "#E5ECF6",
          "polar": {
           "angularaxis": {
            "gridcolor": "white",
            "linecolor": "white",
            "ticks": ""
           },
           "bgcolor": "#E5ECF6",
           "radialaxis": {
            "gridcolor": "white",
            "linecolor": "white",
            "ticks": ""
           }
          },
          "scene": {
           "xaxis": {
            "backgroundcolor": "#E5ECF6",
            "gridcolor": "white",
            "gridwidth": 2,
            "linecolor": "white",
            "showbackground": true,
            "ticks": "",
            "zerolinecolor": "white"
           },
           "yaxis": {
            "backgroundcolor": "#E5ECF6",
            "gridcolor": "white",
            "gridwidth": 2,
            "linecolor": "white",
            "showbackground": true,
            "ticks": "",
            "zerolinecolor": "white"
           },
           "zaxis": {
            "backgroundcolor": "#E5ECF6",
            "gridcolor": "white",
            "gridwidth": 2,
            "linecolor": "white",
            "showbackground": true,
            "ticks": "",
            "zerolinecolor": "white"
           }
          },
          "shapedefaults": {
           "line": {
            "color": "#2a3f5f"
           }
          },
          "ternary": {
           "aaxis": {
            "gridcolor": "white",
            "linecolor": "white",
            "ticks": ""
           },
           "baxis": {
            "gridcolor": "white",
            "linecolor": "white",
            "ticks": ""
           },
           "bgcolor": "#E5ECF6",
           "caxis": {
            "gridcolor": "white",
            "linecolor": "white",
            "ticks": ""
           }
          },
          "title": {
           "x": 0.05
          },
          "xaxis": {
           "automargin": true,
           "gridcolor": "white",
           "linecolor": "white",
           "ticks": "",
           "title": {
            "standoff": 15
           },
           "zerolinecolor": "white",
           "zerolinewidth": 2
          },
          "yaxis": {
           "automargin": true,
           "gridcolor": "white",
           "linecolor": "white",
           "ticks": "",
           "title": {
            "standoff": 15
           },
           "zerolinecolor": "white",
           "zerolinewidth": 2
          }
         }
        },
        "title": {
         "text": "Krunkscripts per Author"
        }
       }
      }
     },
     "metadata": {},
     "output_type": "display_data"
    }
   ],
   "source": [
    "# pie chart by author\n",
    "field = \"author\"\n",
    "results_groupby = simple_results.groupby(field)[field].count()\n",
    "results_groupby = results_groupby.to_frame().rename(columns={\"author\": \"count\"}).reset_index()\n",
    "\n",
    "results_groupby\n",
    "fig = px.pie(results_groupby,values='count',names='author')\n",
    "fig.update_traces(textinfo='value')\n",
    "fig.update_layout(\n",
    "    title=\"Krunkscripts per Author\"\n",
    ")\n",
    "fig.show()\n",
    "fig.write_image(\"author.png\") \n"
   ]
  },
  {
   "cell_type": "code",
   "execution_count": 149,
   "metadata": {},
   "outputs": [
    {
     "name": "stderr",
     "output_type": "stream",
     "text": [
      "C:\\Users\\Justi\\AppData\\Local\\Temp/ipykernel_7288/3986019378.py:6: FutureWarning:\n",
      "\n",
      "Using the level keyword in DataFrame and Series aggregations is deprecated and will be removed in a future version. Use groupby instead. df.sum(level=1) should use df.groupby(level=1).sum().\n",
      "\n"
     ]
    },
    {
     "data": {
      "text/html": [
       "<div>\n",
       "<style scoped>\n",
       "    .dataframe tbody tr th:only-of-type {\n",
       "        vertical-align: middle;\n",
       "    }\n",
       "\n",
       "    .dataframe tbody tr th {\n",
       "        vertical-align: top;\n",
       "    }\n",
       "\n",
       "    .dataframe thead th {\n",
       "        text-align: right;\n",
       "    }\n",
       "</style>\n",
       "<table border=\"1\" class=\"dataframe\">\n",
       "  <thead>\n",
       "    <tr style=\"text-align: right;\">\n",
       "      <th></th>\n",
       "      <th>script_name</th>\n",
       "      <th>author</th>\n",
       "      <th>client</th>\n",
       "      <th>server</th>\n",
       "      <th>other</th>\n",
       "      <th>description</th>\n",
       "      <th>link</th>\n",
       "      <th>category</th>\n",
       "      <th>path</th>\n",
       "      <th>tags</th>\n",
       "      <th>...</th>\n",
       "      <th>tags_weaponinfo</th>\n",
       "      <th>tags_database</th>\n",
       "      <th>tags_examples</th>\n",
       "      <th>tags_game</th>\n",
       "      <th>tags_gameutil</th>\n",
       "      <th>tags_network</th>\n",
       "      <th>tags_overlay</th>\n",
       "      <th>tags_physics</th>\n",
       "      <th>tags_scene</th>\n",
       "      <th>tags_util</th>\n",
       "    </tr>\n",
       "  </thead>\n",
       "  <tbody>\n",
       "    <tr>\n",
       "      <th>5</th>\n",
       "      <td>customweapons</td>\n",
       "      <td>DQ Swat</td>\n",
       "      <td></td>\n",
       "      <td></td>\n",
       "      <td>yes</td>\n",
       "      <td>custom weapon script.</td>\n",
       "      <td>https://discord.com/channels/85994758600536886...</td>\n",
       "      <td>game</td>\n",
       "      <td>https://github.com/blandrice/blandlibs/tree/ma...</td>\n",
       "      <td>['game',  'customWeapons']</td>\n",
       "      <td>...</td>\n",
       "      <td>0</td>\n",
       "      <td>0</td>\n",
       "      <td>0</td>\n",
       "      <td>1</td>\n",
       "      <td>0</td>\n",
       "      <td>0</td>\n",
       "      <td>0</td>\n",
       "      <td>0</td>\n",
       "      <td>0</td>\n",
       "      <td>0</td>\n",
       "    </tr>\n",
       "    <tr>\n",
       "      <th>8</th>\n",
       "      <td>ecs</td>\n",
       "      <td>blandrice</td>\n",
       "      <td>yes</td>\n",
       "      <td>yes</td>\n",
       "      <td></td>\n",
       "      <td>Entity Component System</td>\n",
       "      <td></td>\n",
       "      <td>game</td>\n",
       "      <td>https://github.com/blandrice/blandlibs/tree/ma...</td>\n",
       "      <td>['game',  'ECS',  'system']</td>\n",
       "      <td>...</td>\n",
       "      <td>0</td>\n",
       "      <td>0</td>\n",
       "      <td>0</td>\n",
       "      <td>1</td>\n",
       "      <td>0</td>\n",
       "      <td>0</td>\n",
       "      <td>0</td>\n",
       "      <td>0</td>\n",
       "      <td>0</td>\n",
       "      <td>0</td>\n",
       "    </tr>\n",
       "    <tr>\n",
       "      <th>21</th>\n",
       "      <td>old_djump</td>\n",
       "      <td>blandrice</td>\n",
       "      <td>yes</td>\n",
       "      <td>yes</td>\n",
       "      <td></td>\n",
       "      <td>old doublejump by blandrice before registersyn...</td>\n",
       "      <td></td>\n",
       "      <td>game</td>\n",
       "      <td>https://github.com/blandrice/blandlibs/tree/ma...</td>\n",
       "      <td>['game',  'custommovement',  'doublejump',  'd...</td>\n",
       "      <td>...</td>\n",
       "      <td>0</td>\n",
       "      <td>0</td>\n",
       "      <td>0</td>\n",
       "      <td>1</td>\n",
       "      <td>0</td>\n",
       "      <td>0</td>\n",
       "      <td>0</td>\n",
       "      <td>0</td>\n",
       "      <td>0</td>\n",
       "      <td>0</td>\n",
       "    </tr>\n",
       "    <tr>\n",
       "      <th>25</th>\n",
       "      <td>r_djumpclient</td>\n",
       "      <td>blandrice</td>\n",
       "      <td></td>\n",
       "      <td></td>\n",
       "      <td>yes</td>\n",
       "      <td>double-jump using registersync feature</td>\n",
       "      <td></td>\n",
       "      <td>game</td>\n",
       "      <td>https://github.com/blandrice/blandlibs/tree/ma...</td>\n",
       "      <td>['game',  'custommovement',  'doublejump',  'd...</td>\n",
       "      <td>...</td>\n",
       "      <td>0</td>\n",
       "      <td>0</td>\n",
       "      <td>0</td>\n",
       "      <td>1</td>\n",
       "      <td>0</td>\n",
       "      <td>0</td>\n",
       "      <td>0</td>\n",
       "      <td>0</td>\n",
       "      <td>0</td>\n",
       "      <td>0</td>\n",
       "    </tr>\n",
       "    <tr>\n",
       "      <th>26</th>\n",
       "      <td>r_djumpnode</td>\n",
       "      <td>blandrice</td>\n",
       "      <td>yes</td>\n",
       "      <td>yes</td>\n",
       "      <td>yes</td>\n",
       "      <td>Doublejump with crystals</td>\n",
       "      <td></td>\n",
       "      <td>game</td>\n",
       "      <td>https://github.com/blandrice/blandlibs/tree/ma...</td>\n",
       "      <td>['game',  'custommovement',  'doublejump',  'd...</td>\n",
       "      <td>...</td>\n",
       "      <td>0</td>\n",
       "      <td>0</td>\n",
       "      <td>0</td>\n",
       "      <td>1</td>\n",
       "      <td>0</td>\n",
       "      <td>0</td>\n",
       "      <td>0</td>\n",
       "      <td>0</td>\n",
       "      <td>0</td>\n",
       "      <td>0</td>\n",
       "    </tr>\n",
       "  </tbody>\n",
       "</table>\n",
       "<p>5 rows × 56 columns</p>\n",
       "</div>"
      ],
      "text/plain": [
       "      script_name     author client server other  \\\n",
       "5   customweapons    DQ Swat                 yes   \n",
       "8             ecs  blandrice    yes    yes         \n",
       "21      old_djump  blandrice    yes    yes         \n",
       "25  r_djumpclient  blandrice                 yes   \n",
       "26    r_djumpnode  blandrice    yes    yes   yes   \n",
       "\n",
       "                                          description  \\\n",
       "5                               custom weapon script.   \n",
       "8                             Entity Component System   \n",
       "21  old doublejump by blandrice before registersyn...   \n",
       "25             double-jump using registersync feature   \n",
       "26                           Doublejump with crystals   \n",
       "\n",
       "                                                 link category  \\\n",
       "5   https://discord.com/channels/85994758600536886...     game   \n",
       "8                                                         game   \n",
       "21                                                        game   \n",
       "25                                                        game   \n",
       "26                                                        game   \n",
       "\n",
       "                                                 path  \\\n",
       "5   https://github.com/blandrice/blandlibs/tree/ma...   \n",
       "8   https://github.com/blandrice/blandlibs/tree/ma...   \n",
       "21  https://github.com/blandrice/blandlibs/tree/ma...   \n",
       "25  https://github.com/blandrice/blandlibs/tree/ma...   \n",
       "26  https://github.com/blandrice/blandlibs/tree/ma...   \n",
       "\n",
       "                                                 tags  ...  tags_weaponinfo  \\\n",
       "5                          ['game',  'customWeapons']  ...                0   \n",
       "8                         ['game',  'ECS',  'system']  ...                0   \n",
       "21  ['game',  'custommovement',  'doublejump',  'd...  ...                0   \n",
       "25  ['game',  'custommovement',  'doublejump',  'd...  ...                0   \n",
       "26  ['game',  'custommovement',  'doublejump',  'd...  ...                0   \n",
       "\n",
       "    tags_database  tags_examples  tags_game  tags_gameutil  tags_network  \\\n",
       "5               0              0          1              0             0   \n",
       "8               0              0          1              0             0   \n",
       "21              0              0          1              0             0   \n",
       "25              0              0          1              0             0   \n",
       "26              0              0          1              0             0   \n",
       "\n",
       "    tags_overlay  tags_physics  tags_scene  tags_util  \n",
       "5              0             0           0          0  \n",
       "8              0             0           0          0  \n",
       "21             0             0           0          0  \n",
       "25             0             0           0          0  \n",
       "26             0             0           0          0  \n",
       "\n",
       "[5 rows x 56 columns]"
      ]
     },
     "execution_count": 149,
     "metadata": {},
     "output_type": "execute_result"
    }
   ],
   "source": [
    "'''\n",
    "search by tags in python\n",
    "'''\n",
    "\n",
    "# dummy values?\n",
    "tag_columns = pd.get_dummies(simple_results['tags'].apply(pd.Series).stack()).sum(level=0)\n",
    "# add prefix\n",
    "tag_columns.columns = [('tags_' + str(col).strip().replace(\"'\",\"\"))for col in tag_columns.columns.tolist()]\n",
    "# concat to results\n",
    "simple_result_tags = pd.concat([simple_results, tag_columns], axis=1)\n",
    "\n",
    "# search by tag name\n",
    "searchtag = \"game\"\n",
    "search_results = simple_result_tags[simple_result_tags['tags_'+searchtag] == 1]\n",
    "search_results.head()\n"
   ]
  },
  {
   "cell_type": "code",
   "execution_count": 150,
   "metadata": {},
   "outputs": [
    {
     "data": {
      "text/plain": [
       "tags_util              9\n",
       "tags_overlay           8\n",
       "tags_gameutil          8\n",
       "tags_game              5\n",
       "tags_custommovement    3\n",
       "dtype: int64"
      ]
     },
     "execution_count": 150,
     "metadata": {},
     "output_type": "execute_result"
    }
   ],
   "source": [
    "tag_columns.sum().sort_values(ascending=False).head()"
   ]
  },
  {
   "cell_type": "code",
   "execution_count": 151,
   "metadata": {},
   "outputs": [
    {
     "data": {
      "text/html": [
       "<div>\n",
       "<style scoped>\n",
       "    .dataframe tbody tr th:only-of-type {\n",
       "        vertical-align: middle;\n",
       "    }\n",
       "\n",
       "    .dataframe tbody tr th {\n",
       "        vertical-align: top;\n",
       "    }\n",
       "\n",
       "    .dataframe thead th {\n",
       "        text-align: right;\n",
       "    }\n",
       "</style>\n",
       "<table border=\"1\" class=\"dataframe\">\n",
       "  <thead>\n",
       "    <tr style=\"text-align: right;\">\n",
       "      <th></th>\n",
       "      <th>script_name</th>\n",
       "      <th>author</th>\n",
       "      <th>client</th>\n",
       "      <th>server</th>\n",
       "      <th>other</th>\n",
       "      <th>description</th>\n",
       "      <th>link</th>\n",
       "      <th>category</th>\n",
       "      <th>path</th>\n",
       "      <th>tags</th>\n",
       "    </tr>\n",
       "  </thead>\n",
       "  <tbody>\n",
       "    <tr>\n",
       "      <th>7</th>\n",
       "      <td>dtypes</td>\n",
       "      <td>blandrice</td>\n",
       "      <td></td>\n",
       "      <td></td>\n",
       "      <td>yes</td>\n",
       "      <td>custom float data types--&gt; binary representati...</td>\n",
       "      <td></td>\n",
       "      <td>util</td>\n",
       "      <td>https://github.com/blandrice/blandlibs/tree/ma...</td>\n",
       "      <td>['util',  'dtypes']</td>\n",
       "    </tr>\n",
       "    <tr>\n",
       "      <th>8</th>\n",
       "      <td>ecs</td>\n",
       "      <td>blandrice</td>\n",
       "      <td>yes</td>\n",
       "      <td>yes</td>\n",
       "      <td></td>\n",
       "      <td>Entity Component System</td>\n",
       "      <td></td>\n",
       "      <td>game</td>\n",
       "      <td>https://github.com/blandrice/blandlibs/tree/ma...</td>\n",
       "      <td>['game',  'ECS',  'system']</td>\n",
       "    </tr>\n",
       "    <tr>\n",
       "      <th>9</th>\n",
       "      <td>fade</td>\n",
       "      <td>blandrice</td>\n",
       "      <td>yes</td>\n",
       "      <td>yes</td>\n",
       "      <td></td>\n",
       "      <td></td>\n",
       "      <td></td>\n",
       "      <td>scene</td>\n",
       "      <td>https://github.com/blandrice/blandlibs/tree/ma...</td>\n",
       "      <td>['scene',  'fade']</td>\n",
       "    </tr>\n",
       "    <tr>\n",
       "      <th>11</th>\n",
       "      <td>g</td>\n",
       "      <td>blandrice</td>\n",
       "      <td></td>\n",
       "      <td></td>\n",
       "      <td>yes</td>\n",
       "      <td>some global vars that other libs can reference...</td>\n",
       "      <td></td>\n",
       "      <td>gameutil</td>\n",
       "      <td>https://github.com/blandrice/blandlibs/tree/ma...</td>\n",
       "      <td>['gameutil',  'global']</td>\n",
       "    </tr>\n",
       "    <tr>\n",
       "      <th>12</th>\n",
       "      <td>gamescore</td>\n",
       "      <td>blandrice</td>\n",
       "      <td>yes</td>\n",
       "      <td></td>\n",
       "      <td></td>\n",
       "      <td>show points incrementing UI through krunkscript</td>\n",
       "      <td></td>\n",
       "      <td>overlay</td>\n",
       "      <td>https://github.com/blandrice/blandlibs/tree/ma...</td>\n",
       "      <td>['overlay',  'customgamescoreUI']</td>\n",
       "    </tr>\n",
       "    <tr>\n",
       "      <th>13</th>\n",
       "      <td>gamestart</td>\n",
       "      <td>blandrice</td>\n",
       "      <td>yes</td>\n",
       "      <td>yes</td>\n",
       "      <td></td>\n",
       "      <td>Detect game start in a map with a countdown.</td>\n",
       "      <td></td>\n",
       "      <td>gameutil</td>\n",
       "      <td>https://github.com/blandrice/blandlibs/tree/ma...</td>\n",
       "      <td>['gameutil',  'gamestart']</td>\n",
       "    </tr>\n",
       "    <tr>\n",
       "      <th>20</th>\n",
       "      <td>listutil</td>\n",
       "      <td>blandrice</td>\n",
       "      <td></td>\n",
       "      <td></td>\n",
       "      <td>yes</td>\n",
       "      <td>Additional string utilities</td>\n",
       "      <td></td>\n",
       "      <td>util</td>\n",
       "      <td>https://github.com/blandrice/blandlibs/tree/ma...</td>\n",
       "      <td>['util',  'lists']</td>\n",
       "    </tr>\n",
       "    <tr>\n",
       "      <th>21</th>\n",
       "      <td>old_djump</td>\n",
       "      <td>blandrice</td>\n",
       "      <td>yes</td>\n",
       "      <td>yes</td>\n",
       "      <td></td>\n",
       "      <td>old doublejump by blandrice before registersyn...</td>\n",
       "      <td></td>\n",
       "      <td>game</td>\n",
       "      <td>https://github.com/blandrice/blandlibs/tree/ma...</td>\n",
       "      <td>['game',  'custommovement',  'doublejump',  'd...</td>\n",
       "    </tr>\n",
       "    <tr>\n",
       "      <th>22</th>\n",
       "      <td>plrbhvr</td>\n",
       "      <td>blandrice</td>\n",
       "      <td>yes</td>\n",
       "      <td>yes</td>\n",
       "      <td></td>\n",
       "      <td>disable server sync + behavior for custom move...</td>\n",
       "      <td></td>\n",
       "      <td>network</td>\n",
       "      <td>https://github.com/blandrice/blandlibs/tree/ma...</td>\n",
       "      <td>['network',  'plrbehavior']</td>\n",
       "    </tr>\n",
       "    <tr>\n",
       "      <th>23</th>\n",
       "      <td>plrutil</td>\n",
       "      <td>blandrice</td>\n",
       "      <td>yes</td>\n",
       "      <td>yes</td>\n",
       "      <td>yes</td>\n",
       "      <td>workaround to check how many players are spawn...</td>\n",
       "      <td></td>\n",
       "      <td>gameutil</td>\n",
       "      <td>https://github.com/blandrice/blandlibs/tree/ma...</td>\n",
       "      <td>['gameutil',  'plrutil']</td>\n",
       "    </tr>\n",
       "    <tr>\n",
       "      <th>25</th>\n",
       "      <td>r_djumpclient</td>\n",
       "      <td>blandrice</td>\n",
       "      <td></td>\n",
       "      <td></td>\n",
       "      <td>yes</td>\n",
       "      <td>double-jump using registersync feature</td>\n",
       "      <td></td>\n",
       "      <td>game</td>\n",
       "      <td>https://github.com/blandrice/blandlibs/tree/ma...</td>\n",
       "      <td>['game',  'custommovement',  'doublejump',  'd...</td>\n",
       "    </tr>\n",
       "    <tr>\n",
       "      <th>26</th>\n",
       "      <td>r_djumpnode</td>\n",
       "      <td>blandrice</td>\n",
       "      <td>yes</td>\n",
       "      <td>yes</td>\n",
       "      <td>yes</td>\n",
       "      <td>Doublejump with crystals</td>\n",
       "      <td></td>\n",
       "      <td>game</td>\n",
       "      <td>https://github.com/blandrice/blandlibs/tree/ma...</td>\n",
       "      <td>['game',  'custommovement',  'doublejump',  'd...</td>\n",
       "    </tr>\n",
       "    <tr>\n",
       "      <th>28</th>\n",
       "      <td>ranks</td>\n",
       "      <td>blandrice</td>\n",
       "      <td>yes</td>\n",
       "      <td>yes</td>\n",
       "      <td></td>\n",
       "      <td>Create a map in Krunker and copy the client &amp; ...</td>\n",
       "      <td>https://github.com/blandrice/krunkerClansPlus</td>\n",
       "      <td>database</td>\n",
       "      <td>https://github.com/blandrice/blandlibs/tree/ma...</td>\n",
       "      <td>['database',  'clansrank']</td>\n",
       "    </tr>\n",
       "    <tr>\n",
       "      <th>29</th>\n",
       "      <td>ranksmainmap</td>\n",
       "      <td>blandrice</td>\n",
       "      <td>yes</td>\n",
       "      <td>yes</td>\n",
       "      <td></td>\n",
       "      <td>This is a shareable script to display popular ...</td>\n",
       "      <td>https://github.com/blandrice/krunkerClansPlus</td>\n",
       "      <td>database</td>\n",
       "      <td>https://github.com/blandrice/blandlibs/tree/ma...</td>\n",
       "      <td>['database',  'clansrank']</td>\n",
       "    </tr>\n",
       "    <tr>\n",
       "      <th>30</th>\n",
       "      <td>raybox</td>\n",
       "      <td>blandrice</td>\n",
       "      <td></td>\n",
       "      <td></td>\n",
       "      <td>yes</td>\n",
       "      <td>Ray-box intersections in Krunker.</td>\n",
       "      <td></td>\n",
       "      <td>physics</td>\n",
       "      <td>https://github.com/blandrice/blandlibs/tree/ma...</td>\n",
       "      <td>['physics',  'collisions']</td>\n",
       "    </tr>\n",
       "    <tr>\n",
       "      <th>31</th>\n",
       "      <td>rotbox</td>\n",
       "      <td>blandrice</td>\n",
       "      <td></td>\n",
       "      <td></td>\n",
       "      <td>yes</td>\n",
       "      <td>rotated bounding box collision</td>\n",
       "      <td></td>\n",
       "      <td>physics</td>\n",
       "      <td>https://github.com/blandrice/blandlibs/tree/ma...</td>\n",
       "      <td>['physics',  'collisions']</td>\n",
       "    </tr>\n",
       "    <tr>\n",
       "      <th>34</th>\n",
       "      <td>syncobjs</td>\n",
       "      <td>blandrice</td>\n",
       "      <td>yes</td>\n",
       "      <td>yes</td>\n",
       "      <td></td>\n",
       "      <td>Custom Server object syncing.</td>\n",
       "      <td></td>\n",
       "      <td>network</td>\n",
       "      <td>https://github.com/blandrice/blandlibs/tree/ma...</td>\n",
       "      <td>['network',  'syncobjs']</td>\n",
       "    </tr>\n",
       "    <tr>\n",
       "      <th>35</th>\n",
       "      <td>timer</td>\n",
       "      <td>blandrice</td>\n",
       "      <td>yes</td>\n",
       "      <td>yes</td>\n",
       "      <td></td>\n",
       "      <td>display a timer (total time given by server)</td>\n",
       "      <td></td>\n",
       "      <td>overlay</td>\n",
       "      <td>https://github.com/blandrice/blandlibs/tree/ma...</td>\n",
       "      <td>['overlay',  'timer']</td>\n",
       "    </tr>\n",
       "    <tr>\n",
       "      <th>36</th>\n",
       "      <td>vec</td>\n",
       "      <td>blandrice</td>\n",
       "      <td></td>\n",
       "      <td></td>\n",
       "      <td>yes</td>\n",
       "      <td>blandrice's object-based vector math</td>\n",
       "      <td></td>\n",
       "      <td>util</td>\n",
       "      <td>https://github.com/blandrice/blandlibs/tree/ma...</td>\n",
       "      <td>['util',  'vectors']</td>\n",
       "    </tr>\n",
       "    <tr>\n",
       "      <th>38</th>\n",
       "      <td>wpninfo</td>\n",
       "      <td>blandrice</td>\n",
       "      <td>yes</td>\n",
       "      <td></td>\n",
       "      <td></td>\n",
       "      <td>adds additional CLASS's PRIMARY weapon info to...</td>\n",
       "      <td></td>\n",
       "      <td>gameutil</td>\n",
       "      <td>https://github.com/blandrice/blandlibs/tree/ma...</td>\n",
       "      <td>['gameutil',  'weaponinfo']</td>\n",
       "    </tr>\n",
       "  </tbody>\n",
       "</table>\n",
       "</div>"
      ],
      "text/plain": [
       "      script_name     author client server other  \\\n",
       "7          dtypes  blandrice                 yes   \n",
       "8             ecs  blandrice    yes    yes         \n",
       "9            fade  blandrice    yes    yes         \n",
       "11              g  blandrice                 yes   \n",
       "12      gamescore  blandrice    yes                \n",
       "13      gamestart  blandrice    yes    yes         \n",
       "20       listutil  blandrice                 yes   \n",
       "21      old_djump  blandrice    yes    yes         \n",
       "22        plrbhvr  blandrice    yes    yes         \n",
       "23        plrutil  blandrice    yes    yes   yes   \n",
       "25  r_djumpclient  blandrice                 yes   \n",
       "26    r_djumpnode  blandrice    yes    yes   yes   \n",
       "28          ranks  blandrice    yes    yes         \n",
       "29   ranksmainmap  blandrice    yes    yes         \n",
       "30         raybox  blandrice                 yes   \n",
       "31         rotbox  blandrice                 yes   \n",
       "34       syncobjs  blandrice    yes    yes         \n",
       "35          timer  blandrice    yes    yes         \n",
       "36            vec  blandrice                 yes   \n",
       "38        wpninfo  blandrice    yes                \n",
       "\n",
       "                                          description  \\\n",
       "7   custom float data types--> binary representati...   \n",
       "8                             Entity Component System   \n",
       "9                                                       \n",
       "11  some global vars that other libs can reference...   \n",
       "12    show points incrementing UI through krunkscript   \n",
       "13       Detect game start in a map with a countdown.   \n",
       "20                        Additional string utilities   \n",
       "21  old doublejump by blandrice before registersyn...   \n",
       "22  disable server sync + behavior for custom move...   \n",
       "23  workaround to check how many players are spawn...   \n",
       "25             double-jump using registersync feature   \n",
       "26                           Doublejump with crystals   \n",
       "28  Create a map in Krunker and copy the client & ...   \n",
       "29  This is a shareable script to display popular ...   \n",
       "30                  Ray-box intersections in Krunker.   \n",
       "31                     rotated bounding box collision   \n",
       "34                      Custom Server object syncing.   \n",
       "35       display a timer (total time given by server)   \n",
       "36               blandrice's object-based vector math   \n",
       "38  adds additional CLASS's PRIMARY weapon info to...   \n",
       "\n",
       "                                             link  category  \\\n",
       "7                                                      util   \n",
       "8                                                      game   \n",
       "9                                                     scene   \n",
       "11                                                 gameutil   \n",
       "12                                                  overlay   \n",
       "13                                                 gameutil   \n",
       "20                                                     util   \n",
       "21                                                     game   \n",
       "22                                                  network   \n",
       "23                                                 gameutil   \n",
       "25                                                     game   \n",
       "26                                                     game   \n",
       "28  https://github.com/blandrice/krunkerClansPlus  database   \n",
       "29  https://github.com/blandrice/krunkerClansPlus  database   \n",
       "30                                                  physics   \n",
       "31                                                  physics   \n",
       "34                                                  network   \n",
       "35                                                  overlay   \n",
       "36                                                     util   \n",
       "38                                                 gameutil   \n",
       "\n",
       "                                                 path  \\\n",
       "7   https://github.com/blandrice/blandlibs/tree/ma...   \n",
       "8   https://github.com/blandrice/blandlibs/tree/ma...   \n",
       "9   https://github.com/blandrice/blandlibs/tree/ma...   \n",
       "11  https://github.com/blandrice/blandlibs/tree/ma...   \n",
       "12  https://github.com/blandrice/blandlibs/tree/ma...   \n",
       "13  https://github.com/blandrice/blandlibs/tree/ma...   \n",
       "20  https://github.com/blandrice/blandlibs/tree/ma...   \n",
       "21  https://github.com/blandrice/blandlibs/tree/ma...   \n",
       "22  https://github.com/blandrice/blandlibs/tree/ma...   \n",
       "23  https://github.com/blandrice/blandlibs/tree/ma...   \n",
       "25  https://github.com/blandrice/blandlibs/tree/ma...   \n",
       "26  https://github.com/blandrice/blandlibs/tree/ma...   \n",
       "28  https://github.com/blandrice/blandlibs/tree/ma...   \n",
       "29  https://github.com/blandrice/blandlibs/tree/ma...   \n",
       "30  https://github.com/blandrice/blandlibs/tree/ma...   \n",
       "31  https://github.com/blandrice/blandlibs/tree/ma...   \n",
       "34  https://github.com/blandrice/blandlibs/tree/ma...   \n",
       "35  https://github.com/blandrice/blandlibs/tree/ma...   \n",
       "36  https://github.com/blandrice/blandlibs/tree/ma...   \n",
       "38  https://github.com/blandrice/blandlibs/tree/ma...   \n",
       "\n",
       "                                                 tags  \n",
       "7                                 ['util',  'dtypes']  \n",
       "8                         ['game',  'ECS',  'system']  \n",
       "9                                  ['scene',  'fade']  \n",
       "11                            ['gameutil',  'global']  \n",
       "12                  ['overlay',  'customgamescoreUI']  \n",
       "13                         ['gameutil',  'gamestart']  \n",
       "20                                 ['util',  'lists']  \n",
       "21  ['game',  'custommovement',  'doublejump',  'd...  \n",
       "22                        ['network',  'plrbehavior']  \n",
       "23                           ['gameutil',  'plrutil']  \n",
       "25  ['game',  'custommovement',  'doublejump',  'd...  \n",
       "26  ['game',  'custommovement',  'doublejump',  'd...  \n",
       "28                         ['database',  'clansrank']  \n",
       "29                         ['database',  'clansrank']  \n",
       "30                         ['physics',  'collisions']  \n",
       "31                         ['physics',  'collisions']  \n",
       "34                           ['network',  'syncobjs']  \n",
       "35                              ['overlay',  'timer']  \n",
       "36                               ['util',  'vectors']  \n",
       "38                        ['gameutil',  'weaponinfo']  "
      ]
     },
     "execution_count": 151,
     "metadata": {},
     "output_type": "execute_result"
    }
   ],
   "source": [
    "simple_results[simple_results['author']==\"blandrice\"]"
   ]
  },
  {
   "cell_type": "code",
   "execution_count": null,
   "metadata": {},
   "outputs": [],
   "source": []
  }
 ],
 "metadata": {
  "kernelspec": {
   "display_name": "python38",
   "language": "python",
   "name": "python3"
  },
  "language_info": {
   "codemirror_mode": {
    "name": "ipython",
    "version": 3
   },
   "file_extension": ".py",
   "mimetype": "text/x-python",
   "name": "python",
   "nbconvert_exporter": "python",
   "pygments_lexer": "ipython3",
   "version": "3.8.10"
  },
  "orig_nbformat": 4
 },
 "nbformat": 4,
 "nbformat_minor": 2
}

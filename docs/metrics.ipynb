{
 "cells": [
  {
   "cell_type": "code",
   "execution_count": 1,
   "metadata": {},
   "outputs": [
    {
     "name": "stdout",
     "output_type": "stream",
     "text": [
      "{'script_name': 'ranksmainmap', 'author': 'blandrice', 'link': 'https://github.com/blandrice/krunkerClansPlus', 'client': 'yes', 'server': '', 'other': '', 'description': 'Calculate camera shift between 1st person to 3rd person staring at a subject', 'tags': ['database', 'clansrank'], 'category': 'database', 'path': 'https://github.com/blandrice/blandlibs/tree/master/libs/database/clansrank'}\n",
      "{'script_name': 'ranksmainmap', 'author': 'blandrice', 'link': 'https://github.com/blandrice/krunkerClansPlus', 'client': '', 'server': 'yes', 'other': '', 'description': 'This is a shareable script to display popular Krunker Commmunity Clans Ranks in-game.', 'tags': ['database', 'clansrank'], 'category': 'database', 'path': 'https://github.com/blandrice/blandlibs/tree/master/libs/database/clansrank'}\n",
      "{'script_name': 'ranks', 'author': 'blandrice', 'link': 'https://github.com/blandrice/krunkerClansPlus', 'client': 'yes', 'server': '', 'other': '', 'description': 'Create a map in Krunker and copy the client & server scripts from this github to your new map.', 'tags': ['database', 'clansrank'], 'category': 'database', 'path': 'https://github.com/blandrice/blandlibs/tree/master/libs/database/clansrank'}\n",
      "{'script_name': 'ranks', 'author': '', 'link': '', 'client': '', 'server': 'yes', 'other': '', 'description': '', 'tags': ['database', 'clansrank'], 'category': 'database', 'path': 'https://github.com/blandrice/blandlibs/tree/master/libs/database/clansrank'}\n",
      "{'script_name': 'drawtriangle', 'author': 'Bub Lap', 'link': '', 'client': '', 'server': '', 'other': 'yes', 'description': 'Basic drawTriangle action (KrunkScript example)', 'tags': ['examples', 'drawtriangle'], 'category': 'examples', 'path': 'https://github.com/blandrice/blandlibs/tree/master/libs/examples/drawtriangle'}\n",
      "skipping C:\\Users\\Justi\\Documents\\GitHub\\blandlibs\\libs\\game\\custommovement\\doublejump\\djregistersync\\DJconfig_h.krnk\n",
      "{'script_name': 'r_djumpclient', 'author': 'blandrice', 'link': '', 'client': '', 'server': '', 'other': 'yes', 'description': 'double-jump using registersync feature', 'tags': ['game', 'custommovement', 'doublejump', 'djregistersync'], 'category': 'game', 'path': 'https://github.com/blandrice/blandlibs/tree/master/libs/game/custommovement/doublejump/djregistersync'}\n",
      "skipping C:\\Users\\Justi\\Documents\\GitHub\\blandlibs\\libs\\game\\custommovement\\doublejump\\djregistersync_nodes\\DJcfg_nodes_h.krnk\n",
      "{'script_name': 'r_djumpnode', 'author': 'blandrice', 'link': '', 'client': '', 'server': '', 'other': 'yes', 'description': '', 'tags': ['game', 'custommovement', 'doublejump', 'djregistersync_nodes'], 'category': 'game', 'path': 'https://github.com/blandrice/blandlibs/tree/master/libs/game/custommovement/doublejump/djregistersync_nodes'}\n",
      "{'script_name': 'r_djumpnode', 'author': 'blandrice', 'link': '', 'client': 'yes', 'server': '', 'other': '', 'description': 'Doublejump with crystals', 'tags': ['game', 'custommovement', 'doublejump', 'djregistersync_nodes'], 'category': 'game', 'path': 'https://github.com/blandrice/blandlibs/tree/master/libs/game/custommovement/doublejump/djregistersync_nodes'}\n",
      "{'script_name': 'r_djumpnode', 'author': 'blandrice', 'link': '', 'client': '', 'server': 'yes', 'other': '', 'description': 'Doublejump with crystals', 'tags': ['game', 'custommovement', 'doublejump', 'djregistersync_nodes'], 'category': 'game', 'path': 'https://github.com/blandrice/blandlibs/tree/master/libs/game/custommovement/doublejump/djregistersync_nodes'}\n",
      "{'script_name': 'old_djump', 'author': 'blandrice', 'link': '', 'client': 'yes', 'server': '', 'other': '', 'description': 'old doublejump by blandrice before registersync was introduced.', 'tags': ['game', 'custommovement', 'doublejump', 'dj_oldsync'], 'category': 'game', 'path': 'https://github.com/blandrice/blandlibs/tree/master/libs/game/custommovement/doublejump/dj_oldsync'}\n",
      "{'script_name': 'old_djump', 'author': 'blandrice', 'link': '', 'client': '', 'server': 'yes', 'other': '', 'description': '', 'tags': ['game', 'custommovement', 'doublejump', 'dj_oldsync'], 'category': 'game', 'path': 'https://github.com/blandrice/blandlibs/tree/master/libs/game/custommovement/doublejump/dj_oldsync'}\n",
      "skipping C:\\Users\\Justi\\Documents\\GitHub\\blandlibs\\libs\\game\\custommovement\\doublejump\\dj_oldsync\\old_DJ_head_h.krnk\n",
      "{'script_name': 'customWeapons', 'author': 'DQ Swat', 'link': '', 'client': '', 'server': '', 'other': 'yes', 'description': 'custom weapon script.', 'tags': ['game', 'customWeapons'], 'category': 'game', 'path': 'https://github.com/blandrice/blandlibs/tree/master/libs/game/customWeapons'}\n",
      "{'script_name': 'aibhvr', 'author': 'blandrice', 'link': '', 'client': '', 'server': '', 'other': 'yes', 'description': '', 'tags': ['game', 'ECS', 'components', 'aibehavior'], 'category': 'game', 'path': 'https://github.com/blandrice/blandlibs/tree/master/libs/game/ECS/components/aibehavior'}\n",
      "{'script_name': 'color', 'author': 'blandrice', 'link': '', 'client': '', 'server': '', 'other': 'yes', 'description': '', 'tags': ['game', 'ECS', 'components', 'color'], 'category': 'game', 'path': 'https://github.com/blandrice/blandlibs/tree/master/libs/game/ECS/components/color'}\n",
      "{'script_name': 'hitbox', 'author': 'blandrice', 'link': '', 'client': '', 'server': 'yes', 'other': '', 'description': 'ECS hitbox that can be assigned to a specific object.', 'tags': ['game', 'ECS', 'components', 'hitbox'], 'category': 'game', 'path': 'https://github.com/blandrice/blandlibs/tree/master/libs/game/ECS/components/hitbox'}\n",
      "{'script_name': 'lifetime', 'author': 'blandrice', 'link': '', 'client': '', 'server': '', 'other': 'yes', 'description': '', 'tags': ['game', 'ECS', 'components', 'lifetime'], 'category': 'game', 'path': 'https://github.com/blandrice/blandlibs/tree/master/libs/game/ECS/components/lifetime'}\n",
      "{'script_name': 'ecsbounce', 'author': 'blandrice', 'link': '', 'client': '', 'server': '', 'other': 'yes', 'description': '', 'tags': ['game', 'ECS', 'components', 'movement', 'bounce'], 'category': 'game', 'path': 'https://github.com/blandrice/blandlibs/tree/master/libs/game/ECS/components/movement/bounce'}\n",
      "{'script_name': 'floating', 'author': 'blandrice', 'link': '', 'client': '', 'server': '', 'other': 'yes', 'description': '', 'tags': ['game', 'ECS', 'components', 'movement', 'floating'], 'category': 'game', 'path': 'https://github.com/blandrice/blandlibs/tree/master/libs/game/ECS/components/movement/floating'}\n",
      "{'script_name': 'ecsgrav', 'author': 'blandrice', 'link': '', 'client': '', 'server': '', 'other': 'yes', 'description': '', 'tags': ['game', 'ECS', 'components', 'movement', 'gravity'], 'category': 'game', 'path': 'https://github.com/blandrice/blandlibs/tree/master/libs/game/ECS/components/movement/gravity'}\n",
      "{'script_name': 'ecsphysics', 'author': 'blandrice', 'link': '', 'client': '', 'server': '', 'other': 'yes', 'description': '', 'tags': ['game', 'ECS', 'components', 'movement', 'physics'], 'category': 'game', 'path': 'https://github.com/blandrice/blandlibs/tree/master/libs/game/ECS/components/movement/physics'}\n",
      "{'script_name': 'shake', 'author': 'blandrice', 'link': '', 'client': '', 'server': 'yes', 'other': '', 'description': 'ECS shake feature', 'tags': ['game', 'ECS', 'components', 'movement', 'shake'], 'category': 'game', 'path': 'https://github.com/blandrice/blandlibs/tree/master/libs/game/ECS/components/movement/shake'}\n",
      "{'script_name': 'item', 'author': 'blandrice', 'link': '', 'client': '', 'server': 'yes', 'other': '', 'description': 'ECS item that can be picked up :D collides with the world and other objects', 'tags': ['game', 'ECS', 'entities', 'item'], 'category': 'game', 'path': 'https://github.com/blandrice/blandlibs/tree/master/libs/game/ECS/entities/item'}\n",
      "{'script_name': 'platform', 'author': 'blandrice', 'link': '', 'client': '', 'server': '', 'other': 'yes', 'description': '', 'tags': ['game', 'ECS', 'entities', 'platform'], 'category': 'game', 'path': 'https://github.com/blandrice/blandlibs/tree/master/libs/game/ECS/entities/platform'}\n",
      "{'script_name': 'ecs', 'author': 'blandrice', 'link': '', 'client': 'yes', 'server': '', 'other': '', 'description': 'Entity Component System', 'tags': ['game', 'ECS', 'system'], 'category': 'game', 'path': 'https://github.com/blandrice/blandlibs/tree/master/libs/game/ECS/system'}\n",
      "skipping C:\\Users\\Justi\\Documents\\GitHub\\blandlibs\\libs\\game\\ECS\\system\\ecs_h.krnk\n",
      "{'script_name': 'ecs', 'author': 'blandrice', 'link': '', 'client': '', 'server': 'yes', 'other': '', 'description': '', 'tags': ['game', 'ECS', 'system'], 'category': 'game', 'path': 'https://github.com/blandrice/blandlibs/tree/master/libs/game/ECS/system'}\n",
      "{'script_name': 'admin', 'author': 'KG07', 'link': 'https://github.com/KG07/admin_system_version1', 'client': 'yes', 'server': '', 'other': '', 'description': 'Admin system code: for map makers who doesn’t know or know a bit of scripting to hire some moderators into your map', 'tags': ['gameutil', 'admin'], 'category': 'gameutil', 'path': 'https://github.com/blandrice/blandlibs/tree/master/libs/gameutil/admin'}\n",
      "{'script_name': 'admin', 'author': 'KG07', 'link': 'https://github.com/KG07/admin_system_version1', 'client': '', 'server': 'yes', 'other': '', 'description': '', 'tags': ['gameutil', 'admin'], 'category': 'gameutil', 'path': 'https://github.com/blandrice/blandlibs/tree/master/libs/gameutil/admin'}\n",
      "{'script_name': 'checkpoint', 'author': 'Sakurasou', 'link': '', 'client': '', 'server': '', 'other': 'yes', 'description': 'Changes the names of the Checkpoints on the Speedrun Timer in the bottom right (Point 1, Point 2, ...)', 'tags': ['gameutil', 'checkpoint'], 'category': 'gameutil', 'path': 'https://github.com/blandrice/blandlibs/tree/master/libs/gameutil/checkpoint'}\n",
      "{'script_name': 'gamestart', 'author': 'blandrice', 'link': '', 'client': 'yes', 'server': '', 'other': '', 'description': 'Detect game start in a map with a countdown.', 'tags': ['gameutil', 'gamestart'], 'category': 'gameutil', 'path': 'https://github.com/blandrice/blandlibs/tree/master/libs/gameutil/gamestart'}\n",
      "{'script_name': 'gamestart', 'author': 'blandrice', 'link': '', 'client': '', 'server': 'yes', 'other': '', 'description': '', 'tags': ['gameutil', 'gamestart'], 'category': 'gameutil', 'path': 'https://github.com/blandrice/blandlibs/tree/master/libs/gameutil/gamestart'}\n",
      "{'script_name': 'g', 'author': 'blandrice', 'link': '', 'client': '', 'server': '', 'other': 'yes', 'description': '', 'tags': ['gameutil', 'global'], 'category': 'gameutil', 'path': 'https://github.com/blandrice/blandlibs/tree/master/libs/gameutil/global'}\n",
      "{'script_name': 'infected', 'author': 'DukeV', 'link': 'https://discord.com/channels/859947586005368862/862113777946984459/909435501298204713', 'client': '', 'server': 'yes', 'other': '', 'description': 'a way to find out whether a player is infected or not', 'tags': ['gameutil', 'infected'], 'category': 'gameutil', 'path': 'https://github.com/blandrice/blandlibs/tree/master/libs/gameutil/infected'}\n",
      "{'script_name': 'plrutil', 'author': 'blandrice', 'link': '', 'client': '', 'server': '', 'other': 'yes', 'description': '', 'tags': ['gameutil', 'plrutil'], 'category': 'gameutil', 'path': 'https://github.com/blandrice/blandlibs/tree/master/libs/gameutil/plrutil'}\n",
      "{'script_name': 'plrutil', 'author': 'blandrice', 'link': '', 'client': 'yes', 'server': '', 'other': '', 'description': 'workaround to check how many players are spawned in', 'tags': ['gameutil', 'plrutil'], 'category': 'gameutil', 'path': 'https://github.com/blandrice/blandlibs/tree/master/libs/gameutil/plrutil'}\n",
      "{'script_name': 'plrutil', 'author': 'blandrice', 'link': '', 'client': '', 'server': 'yes', 'other': '', 'description': '', 'tags': ['gameutil', 'plrutil'], 'category': 'gameutil', 'path': 'https://github.com/blandrice/blandlibs/tree/master/libs/gameutil/plrutil'}\n",
      "{'script_name': 'spectator', 'author': 'SlxTnT', 'link': 'https://discord.com/channels/859947586005368862/862113777946984459/900998093300969473', 'client': '', 'server': '', 'other': 'yes', 'description': 'My attempt at server side spectator checks. Can check the value with player.properties.isSpectator', 'tags': ['gameutil', 'spectator'], 'category': 'gameutil', 'path': 'https://github.com/blandrice/blandlibs/tree/master/libs/gameutil/spectator'}\n",
      "{'script_name': 'wi', 'author': 'blandrice', 'link': '', 'client': '', 'server': '', 'other': 'yes', 'description': '', 'tags': ['gameutil', 'weaponinfo'], 'category': 'gameutil', 'path': 'https://github.com/blandrice/blandlibs/tree/master/libs/gameutil/weaponinfo'}\n",
      "{'script_name': 'wpninfo', 'author': 'blandrice', 'link': '', 'client': 'yes', 'server': '', 'other': '', 'description': \"adds additional CLASS's PRIMARY weapon info to player object.\", 'tags': ['gameutil', 'weaponinfo'], 'category': 'gameutil', 'path': 'https://github.com/blandrice/blandlibs/tree/master/libs/gameutil/weaponinfo'}\n",
      "{'script_name': 'plrbhvr', 'author': 'blandrice', 'link': '', 'client': 'yes', 'server': '', 'other': '', 'description': 'disable server sync + behavior for custom movement', 'tags': ['network', 'plrbehavior'], 'category': 'network', 'path': 'https://github.com/blandrice/blandlibs/tree/master/libs/network/plrbehavior'}\n",
      "{'script_name': 'plrbhvr', 'author': 'blandrice', 'link': '', 'client': '', 'server': 'yes', 'other': '', 'description': '', 'tags': ['network', 'plrbehavior'], 'category': 'network', 'path': 'https://github.com/blandrice/blandlibs/tree/master/libs/network/plrbehavior'}\n",
      "{'script_name': 'syncobjs', 'author': 'blandrice', 'link': '', 'client': 'yes', 'server': '', 'other': '', 'description': 'Custom Server object syncing.', 'tags': ['network', 'syncobjs'], 'category': 'network', 'path': 'https://github.com/blandrice/blandlibs/tree/master/libs/network/syncobjs'}\n",
      "skipping C:\\Users\\Justi\\Documents\\GitHub\\blandlibs\\libs\\network\\syncobjs\\syncobjs_h.krnk\n",
      "{'script_name': 'syncobjs', 'author': 'blandrice', 'link': '', 'client': '', 'server': 'yes', 'other': '', 'description': '', 'tags': ['network', 'syncobjs'], 'category': 'network', 'path': 'https://github.com/blandrice/blandlibs/tree/master/libs/network/syncobjs'}\n",
      "{'script_name': 'camsway', 'author': 'creepycats', 'link': '', 'client': 'yes', 'server': '', 'other': '', 'description': 'sway camera when moving left and right', 'tags': ['overlay', 'cameraSway'], 'category': 'overlay', 'path': 'https://github.com/blandrice/blandlibs/tree/master/libs/overlay/cameraSway'}\n",
      "{'script_name': 'gamescore', 'author': 'blandrice', 'link': '', 'client': 'yes', 'server': '', 'other': '', 'description': 'show points incrementing UI through krunkscript', 'tags': ['overlay', 'customgamescoreUI'], 'category': 'overlay', 'path': 'https://github.com/blandrice/blandlibs/tree/master/libs/overlay/customgamescoreUI'}\n",
      "{'script_name': 'fnitecam', 'author': 'creepycats', 'link': '', 'client': '', 'server': '', 'other': 'yes', 'description': '', 'tags': ['overlay', 'fiveNightsCamera'], 'category': 'overlay', 'path': 'https://github.com/blandrice/blandlibs/tree/master/libs/overlay/fiveNightsCamera'}\n",
      "{'script_name': 'kbobub_default', 'author': 'Bub Lap', 'link': '', 'client': '', 'server': '', 'other': 'yes', 'description': '', 'tags': ['overlay', 'keyboardoverlay', 'bub'], 'category': 'overlay', 'path': 'https://github.com/blandrice/blandlibs/tree/master/libs/overlay/keyboardoverlay/bub'}\n",
      "{'script_name': 'kbobub_green', 'author': 'Bub Lap', 'link': '', 'client': '', 'server': '', 'other': 'yes', 'description': '', 'tags': ['overlay', 'keyboardoverlay', 'bub'], 'category': 'overlay', 'path': 'https://github.com/blandrice/blandlibs/tree/master/libs/overlay/keyboardoverlay/bub'}\n",
      "{'script_name': 'kbo_luca', 'author': 'L-U-C-A', 'link': '', 'client': '', 'server': '', 'other': 'yes', 'description': 'Basic HTML Div-based keyboard', 'tags': ['overlay', 'keyboardoverlay', 'luca'], 'category': 'overlay', 'path': 'https://github.com/blandrice/blandlibs/tree/master/libs/overlay/keyboardoverlay/luca'}\n",
      "{'script_name': 'radar', 'author': 'Andrii', 'link': '', 'client': 'yes', 'server': '', 'other': '', 'description': 'Player radar overlay feature', 'tags': ['overlay', 'radar'], 'category': 'overlay', 'path': 'https://github.com/blandrice/blandlibs/tree/master/libs/overlay/radar'}\n",
      "{'script_name': 'timer', 'author': 'blandrice', 'link': '', 'client': 'yes', 'server': '', 'other': '', 'description': 'display a timer (total time given by server)', 'tags': ['overlay', 'timer'], 'category': 'overlay', 'path': 'https://github.com/blandrice/blandlibs/tree/master/libs/overlay/timer'}\n",
      "{'script_name': 'timer', 'author': 'blandrice', 'link': '', 'client': '', 'server': 'yes', 'other': '', 'description': 'Timer utility (syncs Client to Server)', 'tags': ['overlay', 'timer'], 'category': 'overlay', 'path': 'https://github.com/blandrice/blandlibs/tree/master/libs/overlay/timer'}\n",
      "{'script_name': 'AABB', 'author': 'KG07', 'link': '', 'client': '', 'server': '', 'other': 'yes', 'description': 'AABB (axis-aligned bounding box-box) collision + resolution', 'tags': ['physics', 'collisions'], 'category': 'physics', 'path': 'https://github.com/blandrice/blandlibs/tree/master/libs/physics/collisions'}\n",
      "{'script_name': 'raybox', 'author': 'blandrice', 'link': '', 'client': '', 'server': '', 'other': 'yes', 'description': 'Ray-box intersections in Krunker.', 'tags': ['physics', 'collisions'], 'category': 'physics', 'path': 'https://github.com/blandrice/blandlibs/tree/master/libs/physics/collisions'}\n",
      "{'script_name': 'rotbox', 'author': 'blandrice', 'link': '', 'client': '', 'server': '', 'other': 'yes', 'description': 'rotated bounding box collision', 'tags': ['physics', 'collisions'], 'category': 'physics', 'path': 'https://github.com/blandrice/blandlibs/tree/master/libs/physics/collisions'}\n",
      "{'script_name': 'fade', 'author': 'Andrii', 'link': '', 'client': 'yes', 'server': '', 'other': '', 'description': '', 'tags': ['scene', 'fade'], 'category': 'scene', 'path': 'https://github.com/blandrice/blandlibs/tree/master/libs/scene/fade'}\n",
      "{'script_name': 'fade', 'author': 'Andrii', 'link': '', 'client': '', 'server': 'yes', 'other': '', 'description': '', 'tags': ['scene', 'fade'], 'category': 'scene', 'path': 'https://github.com/blandrice/blandlibs/tree/master/libs/scene/fade'}\n",
      "{'script_name': 'b91', 'author': 'SlxTnT', 'link': '', 'client': '', 'server': '', 'other': 'yes', 'description': 'Base91 decoding converted from https://github.com/KvanTTT/BaseNcoding', 'tags': ['util', 'b91encoding'], 'category': 'util', 'path': 'https://github.com/blandrice/blandlibs/tree/master/libs/util/b91encoding'}\n",
      "{'script_name': 'GPTtrutils', 'author': 'ChatGPT', 'link': '', 'client': '', 'server': '', 'other': 'yes', 'description': 'ChatGPT test on generating string utilities', 'tags': ['util', 'ChatGPT'], 'category': 'util', 'path': 'https://github.com/blandrice/blandlibs/tree/master/libs/util/ChatGPT'}\n",
      "{'script_name': 'GPT_vec', 'author': 'ChatGPT', 'link': '', 'client': '', 'server': '', 'other': 'yes', 'description': 'ChatGPT test on generating vector functions', 'tags': ['util', 'ChatGPT'], 'category': 'util', 'path': 'https://github.com/blandrice/blandlibs/tree/master/libs/util/ChatGPT'}\n",
      "{'script_name': 'dtypes', 'author': 'blandrice', 'link': '', 'client': '', 'server': '', 'other': 'yes', 'description': '', 'tags': ['util', 'dtypes'], 'category': 'util', 'path': 'https://github.com/blandrice/blandlibs/tree/master/libs/util/dtypes'}\n",
      "{'script_name': 'listutil', 'author': 'blandrice', 'link': '', 'client': '', 'server': '', 'other': 'yes', 'description': 'Additional string utilities', 'tags': ['util', 'lists'], 'category': 'util', 'path': 'https://github.com/blandrice/blandlibs/tree/master/libs/util/lists'}\n",
      "{'script_name': 'prng', 'author': 'Sakurasou', 'link': 'https://discord.com/channels/859947586005368862/862113777946984459/988841369529376839', 'client': '', 'server': '', 'other': 'yes', 'description': 'Custom Seed PRNG (Pseudorandom Number Generator) using SFC32 (Simple Fast Counter) and MurmurHash3', 'tags': ['util', 'PRNG'], 'category': 'util', 'path': 'https://github.com/blandrice/blandlibs/tree/master/libs/util/PRNG'}\n",
      "{'script_name': 'strutils', 'author': 'ProfNoob', 'link': '', 'client': '', 'server': '', 'other': 'yes', 'description': 'Additional String utilities', 'tags': ['util', 'strutil'], 'category': 'util', 'path': 'https://github.com/blandrice/blandlibs/tree/master/libs/util/strutil'}\n",
      "{'script_name': 'vec', 'author': 'blandrice', 'link': '', 'client': '', 'server': '', 'other': 'yes', 'description': 'vector math', 'tags': ['util', 'vectors'], 'category': 'util', 'path': 'https://github.com/blandrice/blandlibs/tree/master/libs/util/vectors'}\n"
     ]
    }
   ],
   "source": [
    "%run -i table.py"
   ]
  },
  {
   "cell_type": "code",
   "execution_count": 2,
   "metadata": {},
   "outputs": [
    {
     "data": {
      "text/html": [
       "<div>\n",
       "<style scoped>\n",
       "    .dataframe tbody tr th:only-of-type {\n",
       "        vertical-align: middle;\n",
       "    }\n",
       "\n",
       "    .dataframe tbody tr th {\n",
       "        vertical-align: top;\n",
       "    }\n",
       "\n",
       "    .dataframe thead th {\n",
       "        text-align: right;\n",
       "    }\n",
       "</style>\n",
       "<table border=\"1\" class=\"dataframe\">\n",
       "  <thead>\n",
       "    <tr style=\"text-align: right;\">\n",
       "      <th></th>\n",
       "      <th>Unnamed: 0</th>\n",
       "      <th>script_name</th>\n",
       "      <th>author</th>\n",
       "      <th>link</th>\n",
       "      <th>client</th>\n",
       "      <th>server</th>\n",
       "      <th>other</th>\n",
       "      <th>description</th>\n",
       "      <th>tags</th>\n",
       "      <th>category</th>\n",
       "      <th>path</th>\n",
       "    </tr>\n",
       "  </thead>\n",
       "  <tbody>\n",
       "    <tr>\n",
       "      <th>0</th>\n",
       "      <td>0</td>\n",
       "      <td>ranksmainmap</td>\n",
       "      <td>blandrice</td>\n",
       "      <td>https://github.com/blandrice/krunkerClansPlus</td>\n",
       "      <td>yes</td>\n",
       "      <td>NaN</td>\n",
       "      <td>NaN</td>\n",
       "      <td>Calculate camera shift between 1st person to 3...</td>\n",
       "      <td>['database', 'clansrank']</td>\n",
       "      <td>database</td>\n",
       "      <td>https://github.com/blandrice/blandlibs/tree/ma...</td>\n",
       "    </tr>\n",
       "    <tr>\n",
       "      <th>1</th>\n",
       "      <td>1</td>\n",
       "      <td>ranksmainmap</td>\n",
       "      <td>blandrice</td>\n",
       "      <td>https://github.com/blandrice/krunkerClansPlus</td>\n",
       "      <td>NaN</td>\n",
       "      <td>yes</td>\n",
       "      <td>NaN</td>\n",
       "      <td>This is a shareable script to display popular ...</td>\n",
       "      <td>['database', 'clansrank']</td>\n",
       "      <td>database</td>\n",
       "      <td>https://github.com/blandrice/blandlibs/tree/ma...</td>\n",
       "    </tr>\n",
       "    <tr>\n",
       "      <th>2</th>\n",
       "      <td>2</td>\n",
       "      <td>ranks</td>\n",
       "      <td>blandrice</td>\n",
       "      <td>https://github.com/blandrice/krunkerClansPlus</td>\n",
       "      <td>yes</td>\n",
       "      <td>NaN</td>\n",
       "      <td>NaN</td>\n",
       "      <td>Create a map in Krunker and copy the client &amp; ...</td>\n",
       "      <td>['database', 'clansrank']</td>\n",
       "      <td>database</td>\n",
       "      <td>https://github.com/blandrice/blandlibs/tree/ma...</td>\n",
       "    </tr>\n",
       "    <tr>\n",
       "      <th>3</th>\n",
       "      <td>3</td>\n",
       "      <td>ranks</td>\n",
       "      <td>NaN</td>\n",
       "      <td>NaN</td>\n",
       "      <td>NaN</td>\n",
       "      <td>yes</td>\n",
       "      <td>NaN</td>\n",
       "      <td>NaN</td>\n",
       "      <td>['database', 'clansrank']</td>\n",
       "      <td>database</td>\n",
       "      <td>https://github.com/blandrice/blandlibs/tree/ma...</td>\n",
       "    </tr>\n",
       "    <tr>\n",
       "      <th>4</th>\n",
       "      <td>4</td>\n",
       "      <td>drawtriangle</td>\n",
       "      <td>Bub Lap</td>\n",
       "      <td>NaN</td>\n",
       "      <td>NaN</td>\n",
       "      <td>NaN</td>\n",
       "      <td>yes</td>\n",
       "      <td>Basic drawTriangle action (KrunkScript example)</td>\n",
       "      <td>['examples', 'drawtriangle']</td>\n",
       "      <td>examples</td>\n",
       "      <td>https://github.com/blandrice/blandlibs/tree/ma...</td>\n",
       "    </tr>\n",
       "  </tbody>\n",
       "</table>\n",
       "</div>"
      ],
      "text/plain": [
       "   Unnamed: 0   script_name     author  \\\n",
       "0           0  ranksmainmap  blandrice   \n",
       "1           1  ranksmainmap  blandrice   \n",
       "2           2         ranks  blandrice   \n",
       "3           3         ranks        NaN   \n",
       "4           4  drawtriangle    Bub Lap   \n",
       "\n",
       "                                            link client server other  \\\n",
       "0  https://github.com/blandrice/krunkerClansPlus    yes    NaN   NaN   \n",
       "1  https://github.com/blandrice/krunkerClansPlus    NaN    yes   NaN   \n",
       "2  https://github.com/blandrice/krunkerClansPlus    yes    NaN   NaN   \n",
       "3                                            NaN    NaN    yes   NaN   \n",
       "4                                            NaN    NaN    NaN   yes   \n",
       "\n",
       "                                         description  \\\n",
       "0  Calculate camera shift between 1st person to 3...   \n",
       "1  This is a shareable script to display popular ...   \n",
       "2  Create a map in Krunker and copy the client & ...   \n",
       "3                                                NaN   \n",
       "4    Basic drawTriangle action (KrunkScript example)   \n",
       "\n",
       "                           tags  category  \\\n",
       "0     ['database', 'clansrank']  database   \n",
       "1     ['database', 'clansrank']  database   \n",
       "2     ['database', 'clansrank']  database   \n",
       "3     ['database', 'clansrank']  database   \n",
       "4  ['examples', 'drawtriangle']  examples   \n",
       "\n",
       "                                                path  \n",
       "0  https://github.com/blandrice/blandlibs/tree/ma...  \n",
       "1  https://github.com/blandrice/blandlibs/tree/ma...  \n",
       "2  https://github.com/blandrice/blandlibs/tree/ma...  \n",
       "3  https://github.com/blandrice/blandlibs/tree/ma...  \n",
       "4  https://github.com/blandrice/blandlibs/tree/ma...  "
      ]
     },
     "execution_count": 2,
     "metadata": {},
     "output_type": "execute_result"
    }
   ],
   "source": [
    "import pandas as pd\n",
    "import plotly.express as px\n",
    "df = pd.read_csv(\"table.csv\")\n",
    "df.head()"
   ]
  },
  {
   "cell_type": "code",
   "execution_count": 3,
   "metadata": {},
   "outputs": [],
   "source": [
    "# separate client/server/other df's to merge\n",
    "df_client = df[df['client']=='yes']\n",
    "df_server = df[df['server']=='yes']\n",
    "df_other = df[df['other']==\"yes\"]"
   ]
  },
  {
   "cell_type": "code",
   "execution_count": 4,
   "metadata": {},
   "outputs": [
    {
     "name": "stderr",
     "output_type": "stream",
     "text": [
      "c:\\Users\\Justi\\anaconda3\\envs\\python38\\lib\\site-packages\\pandas\\core\\frame.py:3607: SettingWithCopyWarning: \n",
      "A value is trying to be set on a copy of a slice from a DataFrame.\n",
      "Try using .loc[row_indexer,col_indexer] = value instead\n",
      "\n",
      "See the caveats in the documentation: https://pandas.pydata.org/pandas-docs/stable/user_guide/indexing.html#returning-a-view-versus-a-copy\n",
      "  self._set_item(key, value)\n"
     ]
    },
    {
     "data": {
      "text/html": [
       "<div>\n",
       "<style scoped>\n",
       "    .dataframe tbody tr th:only-of-type {\n",
       "        vertical-align: middle;\n",
       "    }\n",
       "\n",
       "    .dataframe tbody tr th {\n",
       "        vertical-align: top;\n",
       "    }\n",
       "\n",
       "    .dataframe thead th {\n",
       "        text-align: right;\n",
       "    }\n",
       "</style>\n",
       "<table border=\"1\" class=\"dataframe\">\n",
       "  <thead>\n",
       "    <tr style=\"text-align: right;\">\n",
       "      <th></th>\n",
       "      <th>script_name</th>\n",
       "      <th>author</th>\n",
       "      <th>client</th>\n",
       "      <th>server</th>\n",
       "      <th>other</th>\n",
       "      <th>description</th>\n",
       "      <th>link</th>\n",
       "      <th>category</th>\n",
       "      <th>path</th>\n",
       "      <th>tags</th>\n",
       "    </tr>\n",
       "  </thead>\n",
       "  <tbody>\n",
       "    <tr>\n",
       "      <th>0</th>\n",
       "      <td>ranksmainmap</td>\n",
       "      <td>blandrice</td>\n",
       "      <td>yes</td>\n",
       "      <td>yes</td>\n",
       "      <td></td>\n",
       "      <td>This is a shareable script to display popular ...</td>\n",
       "      <td>https://github.com/blandrice/krunkerClansPlus</td>\n",
       "      <td>database</td>\n",
       "      <td>https://github.com/blandrice/blandlibs/tree/ma...</td>\n",
       "      <td>['database',  'clansrank']</td>\n",
       "    </tr>\n",
       "    <tr>\n",
       "      <th>1</th>\n",
       "      <td>ranks</td>\n",
       "      <td>blandrice</td>\n",
       "      <td>yes</td>\n",
       "      <td>yes</td>\n",
       "      <td></td>\n",
       "      <td>Create a map in Krunker and copy the client &amp; ...</td>\n",
       "      <td>https://github.com/blandrice/krunkerClansPlus</td>\n",
       "      <td>database</td>\n",
       "      <td>https://github.com/blandrice/blandlibs/tree/ma...</td>\n",
       "      <td>['database',  'clansrank']</td>\n",
       "    </tr>\n",
       "    <tr>\n",
       "      <th>2</th>\n",
       "      <td>r_djumpnode</td>\n",
       "      <td>blandrice</td>\n",
       "      <td>yes</td>\n",
       "      <td>yes</td>\n",
       "      <td>yes</td>\n",
       "      <td>Doublejump with crystals</td>\n",
       "      <td></td>\n",
       "      <td>game</td>\n",
       "      <td>https://github.com/blandrice/blandlibs/tree/ma...</td>\n",
       "      <td>['game',  'custommovement',  'doublejump',  'd...</td>\n",
       "    </tr>\n",
       "    <tr>\n",
       "      <th>3</th>\n",
       "      <td>old_djump</td>\n",
       "      <td>blandrice</td>\n",
       "      <td>yes</td>\n",
       "      <td>yes</td>\n",
       "      <td></td>\n",
       "      <td>old doublejump by blandrice before registersyn...</td>\n",
       "      <td></td>\n",
       "      <td>game</td>\n",
       "      <td>https://github.com/blandrice/blandlibs/tree/ma...</td>\n",
       "      <td>['game',  'custommovement',  'doublejump',  'd...</td>\n",
       "    </tr>\n",
       "    <tr>\n",
       "      <th>4</th>\n",
       "      <td>ecs</td>\n",
       "      <td>blandrice</td>\n",
       "      <td>yes</td>\n",
       "      <td>yes</td>\n",
       "      <td></td>\n",
       "      <td>Entity Component System</td>\n",
       "      <td></td>\n",
       "      <td>game</td>\n",
       "      <td>https://github.com/blandrice/blandlibs/tree/ma...</td>\n",
       "      <td>['game',  'ECS',  'system']</td>\n",
       "    </tr>\n",
       "  </tbody>\n",
       "</table>\n",
       "</div>"
      ],
      "text/plain": [
       "    script_name     author client server other  \\\n",
       "0  ranksmainmap  blandrice    yes    yes         \n",
       "1         ranks  blandrice    yes    yes         \n",
       "2   r_djumpnode  blandrice    yes    yes   yes   \n",
       "3     old_djump  blandrice    yes    yes         \n",
       "4           ecs  blandrice    yes    yes         \n",
       "\n",
       "                                         description  \\\n",
       "0  This is a shareable script to display popular ...   \n",
       "1  Create a map in Krunker and copy the client & ...   \n",
       "2                           Doublejump with crystals   \n",
       "3  old doublejump by blandrice before registersyn...   \n",
       "4                            Entity Component System   \n",
       "\n",
       "                                            link  category  \\\n",
       "0  https://github.com/blandrice/krunkerClansPlus  database   \n",
       "1  https://github.com/blandrice/krunkerClansPlus  database   \n",
       "2                                                     game   \n",
       "3                                                     game   \n",
       "4                                                     game   \n",
       "\n",
       "                                                path  \\\n",
       "0  https://github.com/blandrice/blandlibs/tree/ma...   \n",
       "1  https://github.com/blandrice/blandlibs/tree/ma...   \n",
       "2  https://github.com/blandrice/blandlibs/tree/ma...   \n",
       "3  https://github.com/blandrice/blandlibs/tree/ma...   \n",
       "4  https://github.com/blandrice/blandlibs/tree/ma...   \n",
       "\n",
       "                                                tags  \n",
       "0                         ['database',  'clansrank']  \n",
       "1                         ['database',  'clansrank']  \n",
       "2  ['game',  'custommovement',  'doublejump',  'd...  \n",
       "3  ['game',  'custommovement',  'doublejump',  'd...  \n",
       "4                        ['game',  'ECS',  'system']  "
      ]
     },
     "execution_count": 4,
     "metadata": {},
     "output_type": "execute_result"
    }
   ],
   "source": [
    "\n",
    "# merge results\n",
    "result = pd.merge(df_client,df_server,how=\"outer\",on=[\"script_name\"])\n",
    "result = pd.merge(result,df_other,how=\"outer\",on=[\"script_name\"])\n",
    "result = result.fillna(\"\")\n",
    "# show field by most populated string\n",
    "for field in ['author','client','server','other','description','link','tags','path','category']:\n",
    "    result[field] = result.apply(lambda x:( x[field] if len(x[field]) > len(x[field + '_x']) else x[field + '_x']),axis=1)\n",
    "    result[field] = result.apply(lambda x:( x[field] if len(x[field]) > len(x[field + '_y']) else x[field + '_y']),axis=1)\n",
    "\n",
    "# simplified table\n",
    "simple_results = result[['script_name','author','client','server','other','description','link','category','path','tags']]\n",
    "simple_results['tags'] = simple_results['tags'].apply(lambda x: x[1:-1].split(','))\n",
    "simple_results.to_markdown(\"KrunkScriptTable.md\")\n",
    "\n",
    "def line_prepender(filename, line):\n",
    "    with open(filename, 'r+') as f:\n",
    "        content = f.read()\n",
    "        f.seek(0, 0)\n",
    "        f.write(line.rstrip('\\r\\n') + '\\n' + content)\n",
    "line_prepender(\"KrunkScriptTable.md\",\"# Table of Krunkscripts\")\n",
    "simple_results.head()"
   ]
  },
  {
   "cell_type": "code",
   "execution_count": 5,
   "metadata": {},
   "outputs": [],
   "source": [
    "text = \"KrunkScripts: \" + str(simple_results.shape[0])\n",
    "text2 = \"Contributors: \" + str(len(simple_results['author'].unique().tolist()))\n",
    "\n",
    "from PIL import Image, ImageDraw, ImageFont\n",
    "import os\n",
    " \n",
    "def text_on_img(filename='cnt_krunkscript.png', text=\"Hello\", size=24):\n",
    "\twidth = 300\n",
    "\theight = 70\n",
    "\t\"Draw a text on an Image, saves it, show it\"\n",
    "\tfnt = ImageFont.truetype('krunkerfont.ttf', size)\n",
    "\t# create image\n",
    "\timage = Image.new(mode = \"RGB\", size = (width,height), color = \"white\")\n",
    "\tdraw = ImageDraw.Draw(image)\n",
    "\t# draw text\n",
    "\tw, h = draw.textsize(text,font=fnt)\n",
    "\tdraw.text(((width-w)/2, (height-h)/2), text, font=fnt, fill=(0,255,0))\n",
    "\t# save file\n",
    "\timage.save(filename)\n",
    "\t# show file\n",
    "\t# os.system(filename)\n",
    " \n",
    " \n",
    "text_on_img(filename=\"cnt_krunkscript.png\",text=text, size=20)\n",
    "text_on_img(filename=\"cnt_contributors.png\",text=text2, size=20)"
   ]
  },
  {
   "cell_type": "code",
   "execution_count": 6,
   "metadata": {},
   "outputs": [
    {
     "data": {
      "application/vnd.plotly.v1+json": {
       "config": {
        "plotlyServerURL": "https://plot.ly"
       },
       "data": [
        {
         "alignmentgroup": "True",
         "hovertemplate": "variable=category<br>value=%{x}<br>index=%{y}<extra></extra>",
         "legendgroup": "category",
         "marker": {
          "color": "#636efa",
          "pattern": {
           "shape": ""
          }
         },
         "name": "category",
         "offsetgroup": "category",
         "orientation": "h",
         "showlegend": true,
         "textposition": "auto",
         "texttemplate": "%{x}",
         "type": "bar",
         "x": [
          1,
          1,
          2,
          2,
          3,
          8,
          8,
          9,
          16
         ],
         "xaxis": "x",
         "y": [
          "examples",
          "scene",
          "database",
          "network",
          "physics",
          "overlay",
          "util",
          "gameutil",
          "game"
         ],
         "yaxis": "y"
        }
       ],
       "layout": {
        "barmode": "relative",
        "legend": {
         "title": {
          "text": "variable"
         },
         "tracegroupgap": 0
        },
        "template": {
         "data": {
          "bar": [
           {
            "error_x": {
             "color": "#2a3f5f"
            },
            "error_y": {
             "color": "#2a3f5f"
            },
            "marker": {
             "line": {
              "color": "#E5ECF6",
              "width": 0.5
             },
             "pattern": {
              "fillmode": "overlay",
              "size": 10,
              "solidity": 0.2
             }
            },
            "type": "bar"
           }
          ],
          "barpolar": [
           {
            "marker": {
             "line": {
              "color": "#E5ECF6",
              "width": 0.5
             },
             "pattern": {
              "fillmode": "overlay",
              "size": 10,
              "solidity": 0.2
             }
            },
            "type": "barpolar"
           }
          ],
          "carpet": [
           {
            "aaxis": {
             "endlinecolor": "#2a3f5f",
             "gridcolor": "white",
             "linecolor": "white",
             "minorgridcolor": "white",
             "startlinecolor": "#2a3f5f"
            },
            "baxis": {
             "endlinecolor": "#2a3f5f",
             "gridcolor": "white",
             "linecolor": "white",
             "minorgridcolor": "white",
             "startlinecolor": "#2a3f5f"
            },
            "type": "carpet"
           }
          ],
          "choropleth": [
           {
            "colorbar": {
             "outlinewidth": 0,
             "ticks": ""
            },
            "type": "choropleth"
           }
          ],
          "contour": [
           {
            "colorbar": {
             "outlinewidth": 0,
             "ticks": ""
            },
            "colorscale": [
             [
              0,
              "#0d0887"
             ],
             [
              0.1111111111111111,
              "#46039f"
             ],
             [
              0.2222222222222222,
              "#7201a8"
             ],
             [
              0.3333333333333333,
              "#9c179e"
             ],
             [
              0.4444444444444444,
              "#bd3786"
             ],
             [
              0.5555555555555556,
              "#d8576b"
             ],
             [
              0.6666666666666666,
              "#ed7953"
             ],
             [
              0.7777777777777778,
              "#fb9f3a"
             ],
             [
              0.8888888888888888,
              "#fdca26"
             ],
             [
              1,
              "#f0f921"
             ]
            ],
            "type": "contour"
           }
          ],
          "contourcarpet": [
           {
            "colorbar": {
             "outlinewidth": 0,
             "ticks": ""
            },
            "type": "contourcarpet"
           }
          ],
          "heatmap": [
           {
            "colorbar": {
             "outlinewidth": 0,
             "ticks": ""
            },
            "colorscale": [
             [
              0,
              "#0d0887"
             ],
             [
              0.1111111111111111,
              "#46039f"
             ],
             [
              0.2222222222222222,
              "#7201a8"
             ],
             [
              0.3333333333333333,
              "#9c179e"
             ],
             [
              0.4444444444444444,
              "#bd3786"
             ],
             [
              0.5555555555555556,
              "#d8576b"
             ],
             [
              0.6666666666666666,
              "#ed7953"
             ],
             [
              0.7777777777777778,
              "#fb9f3a"
             ],
             [
              0.8888888888888888,
              "#fdca26"
             ],
             [
              1,
              "#f0f921"
             ]
            ],
            "type": "heatmap"
           }
          ],
          "heatmapgl": [
           {
            "colorbar": {
             "outlinewidth": 0,
             "ticks": ""
            },
            "colorscale": [
             [
              0,
              "#0d0887"
             ],
             [
              0.1111111111111111,
              "#46039f"
             ],
             [
              0.2222222222222222,
              "#7201a8"
             ],
             [
              0.3333333333333333,
              "#9c179e"
             ],
             [
              0.4444444444444444,
              "#bd3786"
             ],
             [
              0.5555555555555556,
              "#d8576b"
             ],
             [
              0.6666666666666666,
              "#ed7953"
             ],
             [
              0.7777777777777778,
              "#fb9f3a"
             ],
             [
              0.8888888888888888,
              "#fdca26"
             ],
             [
              1,
              "#f0f921"
             ]
            ],
            "type": "heatmapgl"
           }
          ],
          "histogram": [
           {
            "marker": {
             "pattern": {
              "fillmode": "overlay",
              "size": 10,
              "solidity": 0.2
             }
            },
            "type": "histogram"
           }
          ],
          "histogram2d": [
           {
            "colorbar": {
             "outlinewidth": 0,
             "ticks": ""
            },
            "colorscale": [
             [
              0,
              "#0d0887"
             ],
             [
              0.1111111111111111,
              "#46039f"
             ],
             [
              0.2222222222222222,
              "#7201a8"
             ],
             [
              0.3333333333333333,
              "#9c179e"
             ],
             [
              0.4444444444444444,
              "#bd3786"
             ],
             [
              0.5555555555555556,
              "#d8576b"
             ],
             [
              0.6666666666666666,
              "#ed7953"
             ],
             [
              0.7777777777777778,
              "#fb9f3a"
             ],
             [
              0.8888888888888888,
              "#fdca26"
             ],
             [
              1,
              "#f0f921"
             ]
            ],
            "type": "histogram2d"
           }
          ],
          "histogram2dcontour": [
           {
            "colorbar": {
             "outlinewidth": 0,
             "ticks": ""
            },
            "colorscale": [
             [
              0,
              "#0d0887"
             ],
             [
              0.1111111111111111,
              "#46039f"
             ],
             [
              0.2222222222222222,
              "#7201a8"
             ],
             [
              0.3333333333333333,
              "#9c179e"
             ],
             [
              0.4444444444444444,
              "#bd3786"
             ],
             [
              0.5555555555555556,
              "#d8576b"
             ],
             [
              0.6666666666666666,
              "#ed7953"
             ],
             [
              0.7777777777777778,
              "#fb9f3a"
             ],
             [
              0.8888888888888888,
              "#fdca26"
             ],
             [
              1,
              "#f0f921"
             ]
            ],
            "type": "histogram2dcontour"
           }
          ],
          "mesh3d": [
           {
            "colorbar": {
             "outlinewidth": 0,
             "ticks": ""
            },
            "type": "mesh3d"
           }
          ],
          "parcoords": [
           {
            "line": {
             "colorbar": {
              "outlinewidth": 0,
              "ticks": ""
             }
            },
            "type": "parcoords"
           }
          ],
          "pie": [
           {
            "automargin": true,
            "type": "pie"
           }
          ],
          "scatter": [
           {
            "fillpattern": {
             "fillmode": "overlay",
             "size": 10,
             "solidity": 0.2
            },
            "type": "scatter"
           }
          ],
          "scatter3d": [
           {
            "line": {
             "colorbar": {
              "outlinewidth": 0,
              "ticks": ""
             }
            },
            "marker": {
             "colorbar": {
              "outlinewidth": 0,
              "ticks": ""
             }
            },
            "type": "scatter3d"
           }
          ],
          "scattercarpet": [
           {
            "marker": {
             "colorbar": {
              "outlinewidth": 0,
              "ticks": ""
             }
            },
            "type": "scattercarpet"
           }
          ],
          "scattergeo": [
           {
            "marker": {
             "colorbar": {
              "outlinewidth": 0,
              "ticks": ""
             }
            },
            "type": "scattergeo"
           }
          ],
          "scattergl": [
           {
            "marker": {
             "colorbar": {
              "outlinewidth": 0,
              "ticks": ""
             }
            },
            "type": "scattergl"
           }
          ],
          "scattermapbox": [
           {
            "marker": {
             "colorbar": {
              "outlinewidth": 0,
              "ticks": ""
             }
            },
            "type": "scattermapbox"
           }
          ],
          "scatterpolar": [
           {
            "marker": {
             "colorbar": {
              "outlinewidth": 0,
              "ticks": ""
             }
            },
            "type": "scatterpolar"
           }
          ],
          "scatterpolargl": [
           {
            "marker": {
             "colorbar": {
              "outlinewidth": 0,
              "ticks": ""
             }
            },
            "type": "scatterpolargl"
           }
          ],
          "scatterternary": [
           {
            "marker": {
             "colorbar": {
              "outlinewidth": 0,
              "ticks": ""
             }
            },
            "type": "scatterternary"
           }
          ],
          "surface": [
           {
            "colorbar": {
             "outlinewidth": 0,
             "ticks": ""
            },
            "colorscale": [
             [
              0,
              "#0d0887"
             ],
             [
              0.1111111111111111,
              "#46039f"
             ],
             [
              0.2222222222222222,
              "#7201a8"
             ],
             [
              0.3333333333333333,
              "#9c179e"
             ],
             [
              0.4444444444444444,
              "#bd3786"
             ],
             [
              0.5555555555555556,
              "#d8576b"
             ],
             [
              0.6666666666666666,
              "#ed7953"
             ],
             [
              0.7777777777777778,
              "#fb9f3a"
             ],
             [
              0.8888888888888888,
              "#fdca26"
             ],
             [
              1,
              "#f0f921"
             ]
            ],
            "type": "surface"
           }
          ],
          "table": [
           {
            "cells": {
             "fill": {
              "color": "#EBF0F8"
             },
             "line": {
              "color": "white"
             }
            },
            "header": {
             "fill": {
              "color": "#C8D4E3"
             },
             "line": {
              "color": "white"
             }
            },
            "type": "table"
           }
          ]
         },
         "layout": {
          "annotationdefaults": {
           "arrowcolor": "#2a3f5f",
           "arrowhead": 0,
           "arrowwidth": 1
          },
          "autotypenumbers": "strict",
          "coloraxis": {
           "colorbar": {
            "outlinewidth": 0,
            "ticks": ""
           }
          },
          "colorscale": {
           "diverging": [
            [
             0,
             "#8e0152"
            ],
            [
             0.1,
             "#c51b7d"
            ],
            [
             0.2,
             "#de77ae"
            ],
            [
             0.3,
             "#f1b6da"
            ],
            [
             0.4,
             "#fde0ef"
            ],
            [
             0.5,
             "#f7f7f7"
            ],
            [
             0.6,
             "#e6f5d0"
            ],
            [
             0.7,
             "#b8e186"
            ],
            [
             0.8,
             "#7fbc41"
            ],
            [
             0.9,
             "#4d9221"
            ],
            [
             1,
             "#276419"
            ]
           ],
           "sequential": [
            [
             0,
             "#0d0887"
            ],
            [
             0.1111111111111111,
             "#46039f"
            ],
            [
             0.2222222222222222,
             "#7201a8"
            ],
            [
             0.3333333333333333,
             "#9c179e"
            ],
            [
             0.4444444444444444,
             "#bd3786"
            ],
            [
             0.5555555555555556,
             "#d8576b"
            ],
            [
             0.6666666666666666,
             "#ed7953"
            ],
            [
             0.7777777777777778,
             "#fb9f3a"
            ],
            [
             0.8888888888888888,
             "#fdca26"
            ],
            [
             1,
             "#f0f921"
            ]
           ],
           "sequentialminus": [
            [
             0,
             "#0d0887"
            ],
            [
             0.1111111111111111,
             "#46039f"
            ],
            [
             0.2222222222222222,
             "#7201a8"
            ],
            [
             0.3333333333333333,
             "#9c179e"
            ],
            [
             0.4444444444444444,
             "#bd3786"
            ],
            [
             0.5555555555555556,
             "#d8576b"
            ],
            [
             0.6666666666666666,
             "#ed7953"
            ],
            [
             0.7777777777777778,
             "#fb9f3a"
            ],
            [
             0.8888888888888888,
             "#fdca26"
            ],
            [
             1,
             "#f0f921"
            ]
           ]
          },
          "colorway": [
           "#636efa",
           "#EF553B",
           "#00cc96",
           "#ab63fa",
           "#FFA15A",
           "#19d3f3",
           "#FF6692",
           "#B6E880",
           "#FF97FF",
           "#FECB52"
          ],
          "font": {
           "color": "#2a3f5f"
          },
          "geo": {
           "bgcolor": "white",
           "lakecolor": "white",
           "landcolor": "#E5ECF6",
           "showlakes": true,
           "showland": true,
           "subunitcolor": "white"
          },
          "hoverlabel": {
           "align": "left"
          },
          "hovermode": "closest",
          "mapbox": {
           "style": "light"
          },
          "paper_bgcolor": "white",
          "plot_bgcolor": "#E5ECF6",
          "polar": {
           "angularaxis": {
            "gridcolor": "white",
            "linecolor": "white",
            "ticks": ""
           },
           "bgcolor": "#E5ECF6",
           "radialaxis": {
            "gridcolor": "white",
            "linecolor": "white",
            "ticks": ""
           }
          },
          "scene": {
           "xaxis": {
            "backgroundcolor": "#E5ECF6",
            "gridcolor": "white",
            "gridwidth": 2,
            "linecolor": "white",
            "showbackground": true,
            "ticks": "",
            "zerolinecolor": "white"
           },
           "yaxis": {
            "backgroundcolor": "#E5ECF6",
            "gridcolor": "white",
            "gridwidth": 2,
            "linecolor": "white",
            "showbackground": true,
            "ticks": "",
            "zerolinecolor": "white"
           },
           "zaxis": {
            "backgroundcolor": "#E5ECF6",
            "gridcolor": "white",
            "gridwidth": 2,
            "linecolor": "white",
            "showbackground": true,
            "ticks": "",
            "zerolinecolor": "white"
           }
          },
          "shapedefaults": {
           "line": {
            "color": "#2a3f5f"
           }
          },
          "ternary": {
           "aaxis": {
            "gridcolor": "white",
            "linecolor": "white",
            "ticks": ""
           },
           "baxis": {
            "gridcolor": "white",
            "linecolor": "white",
            "ticks": ""
           },
           "bgcolor": "#E5ECF6",
           "caxis": {
            "gridcolor": "white",
            "linecolor": "white",
            "ticks": ""
           }
          },
          "title": {
           "x": 0.05
          },
          "xaxis": {
           "automargin": true,
           "gridcolor": "white",
           "linecolor": "white",
           "ticks": "",
           "title": {
            "standoff": 15
           },
           "zerolinecolor": "white",
           "zerolinewidth": 2
          },
          "yaxis": {
           "automargin": true,
           "gridcolor": "white",
           "linecolor": "white",
           "ticks": "",
           "title": {
            "standoff": 15
           },
           "zerolinecolor": "white",
           "zerolinewidth": 2
          }
         }
        },
        "title": {
         "text": "# KrunkScripts per category"
        },
        "xaxis": {
         "anchor": "y",
         "domain": [
          0,
          1
         ],
         "title": {
          "text": "category"
         }
        },
        "yaxis": {
         "anchor": "x",
         "domain": [
          0,
          1
         ],
         "title": {
          "text": "count"
         }
        }
       }
      }
     },
     "metadata": {},
     "output_type": "display_data"
    }
   ],
   "source": [
    "# field = \"author\"\n",
    "field = \"category\"\n",
    "results_groupby = simple_results.groupby(field)[field].count()\n",
    "fig = px.bar(results_groupby.sort_values(ascending=True),orientation=\"h\",title=\"# KrunkScripts per category\",text_auto=True)\n",
    "fig.update_layout(\n",
    "    xaxis_title=\"category\",\n",
    "    yaxis_title=\"count\"\n",
    ")\n",
    "fig.show()\n",
    "fig.write_image(\"category.png\") \n"
   ]
  },
  {
   "cell_type": "code",
   "execution_count": 7,
   "metadata": {},
   "outputs": [
    {
     "data": {
      "application/vnd.plotly.v1+json": {
       "config": {
        "plotlyServerURL": "https://plot.ly"
       },
       "data": [
        {
         "domain": {
          "x": [
           0,
           1
          ],
          "y": [
           0,
           1
          ]
         },
         "hovertemplate": "author=%{label}<br>count=%{value}<extra></extra>",
         "labels": [
          "Andrii",
          "Bub Lap",
          "ChatGPT",
          "DQ Swat",
          "DukeV",
          "KG07",
          "L-U-C-A",
          "ProfNoob",
          "Sakurasou",
          "SlxTnT",
          "blandrice",
          "creepycats"
         ],
         "legendgroup": "",
         "name": "",
         "showlegend": true,
         "textinfo": "value",
         "type": "pie",
         "values": [
          2,
          3,
          2,
          1,
          1,
          2,
          1,
          1,
          2,
          2,
          31,
          2
         ]
        }
       ],
       "layout": {
        "legend": {
         "tracegroupgap": 0
        },
        "margin": {
         "t": 60
        },
        "template": {
         "data": {
          "bar": [
           {
            "error_x": {
             "color": "#2a3f5f"
            },
            "error_y": {
             "color": "#2a3f5f"
            },
            "marker": {
             "line": {
              "color": "#E5ECF6",
              "width": 0.5
             },
             "pattern": {
              "fillmode": "overlay",
              "size": 10,
              "solidity": 0.2
             }
            },
            "type": "bar"
           }
          ],
          "barpolar": [
           {
            "marker": {
             "line": {
              "color": "#E5ECF6",
              "width": 0.5
             },
             "pattern": {
              "fillmode": "overlay",
              "size": 10,
              "solidity": 0.2
             }
            },
            "type": "barpolar"
           }
          ],
          "carpet": [
           {
            "aaxis": {
             "endlinecolor": "#2a3f5f",
             "gridcolor": "white",
             "linecolor": "white",
             "minorgridcolor": "white",
             "startlinecolor": "#2a3f5f"
            },
            "baxis": {
             "endlinecolor": "#2a3f5f",
             "gridcolor": "white",
             "linecolor": "white",
             "minorgridcolor": "white",
             "startlinecolor": "#2a3f5f"
            },
            "type": "carpet"
           }
          ],
          "choropleth": [
           {
            "colorbar": {
             "outlinewidth": 0,
             "ticks": ""
            },
            "type": "choropleth"
           }
          ],
          "contour": [
           {
            "colorbar": {
             "outlinewidth": 0,
             "ticks": ""
            },
            "colorscale": [
             [
              0,
              "#0d0887"
             ],
             [
              0.1111111111111111,
              "#46039f"
             ],
             [
              0.2222222222222222,
              "#7201a8"
             ],
             [
              0.3333333333333333,
              "#9c179e"
             ],
             [
              0.4444444444444444,
              "#bd3786"
             ],
             [
              0.5555555555555556,
              "#d8576b"
             ],
             [
              0.6666666666666666,
              "#ed7953"
             ],
             [
              0.7777777777777778,
              "#fb9f3a"
             ],
             [
              0.8888888888888888,
              "#fdca26"
             ],
             [
              1,
              "#f0f921"
             ]
            ],
            "type": "contour"
           }
          ],
          "contourcarpet": [
           {
            "colorbar": {
             "outlinewidth": 0,
             "ticks": ""
            },
            "type": "contourcarpet"
           }
          ],
          "heatmap": [
           {
            "colorbar": {
             "outlinewidth": 0,
             "ticks": ""
            },
            "colorscale": [
             [
              0,
              "#0d0887"
             ],
             [
              0.1111111111111111,
              "#46039f"
             ],
             [
              0.2222222222222222,
              "#7201a8"
             ],
             [
              0.3333333333333333,
              "#9c179e"
             ],
             [
              0.4444444444444444,
              "#bd3786"
             ],
             [
              0.5555555555555556,
              "#d8576b"
             ],
             [
              0.6666666666666666,
              "#ed7953"
             ],
             [
              0.7777777777777778,
              "#fb9f3a"
             ],
             [
              0.8888888888888888,
              "#fdca26"
             ],
             [
              1,
              "#f0f921"
             ]
            ],
            "type": "heatmap"
           }
          ],
          "heatmapgl": [
           {
            "colorbar": {
             "outlinewidth": 0,
             "ticks": ""
            },
            "colorscale": [
             [
              0,
              "#0d0887"
             ],
             [
              0.1111111111111111,
              "#46039f"
             ],
             [
              0.2222222222222222,
              "#7201a8"
             ],
             [
              0.3333333333333333,
              "#9c179e"
             ],
             [
              0.4444444444444444,
              "#bd3786"
             ],
             [
              0.5555555555555556,
              "#d8576b"
             ],
             [
              0.6666666666666666,
              "#ed7953"
             ],
             [
              0.7777777777777778,
              "#fb9f3a"
             ],
             [
              0.8888888888888888,
              "#fdca26"
             ],
             [
              1,
              "#f0f921"
             ]
            ],
            "type": "heatmapgl"
           }
          ],
          "histogram": [
           {
            "marker": {
             "pattern": {
              "fillmode": "overlay",
              "size": 10,
              "solidity": 0.2
             }
            },
            "type": "histogram"
           }
          ],
          "histogram2d": [
           {
            "colorbar": {
             "outlinewidth": 0,
             "ticks": ""
            },
            "colorscale": [
             [
              0,
              "#0d0887"
             ],
             [
              0.1111111111111111,
              "#46039f"
             ],
             [
              0.2222222222222222,
              "#7201a8"
             ],
             [
              0.3333333333333333,
              "#9c179e"
             ],
             [
              0.4444444444444444,
              "#bd3786"
             ],
             [
              0.5555555555555556,
              "#d8576b"
             ],
             [
              0.6666666666666666,
              "#ed7953"
             ],
             [
              0.7777777777777778,
              "#fb9f3a"
             ],
             [
              0.8888888888888888,
              "#fdca26"
             ],
             [
              1,
              "#f0f921"
             ]
            ],
            "type": "histogram2d"
           }
          ],
          "histogram2dcontour": [
           {
            "colorbar": {
             "outlinewidth": 0,
             "ticks": ""
            },
            "colorscale": [
             [
              0,
              "#0d0887"
             ],
             [
              0.1111111111111111,
              "#46039f"
             ],
             [
              0.2222222222222222,
              "#7201a8"
             ],
             [
              0.3333333333333333,
              "#9c179e"
             ],
             [
              0.4444444444444444,
              "#bd3786"
             ],
             [
              0.5555555555555556,
              "#d8576b"
             ],
             [
              0.6666666666666666,
              "#ed7953"
             ],
             [
              0.7777777777777778,
              "#fb9f3a"
             ],
             [
              0.8888888888888888,
              "#fdca26"
             ],
             [
              1,
              "#f0f921"
             ]
            ],
            "type": "histogram2dcontour"
           }
          ],
          "mesh3d": [
           {
            "colorbar": {
             "outlinewidth": 0,
             "ticks": ""
            },
            "type": "mesh3d"
           }
          ],
          "parcoords": [
           {
            "line": {
             "colorbar": {
              "outlinewidth": 0,
              "ticks": ""
             }
            },
            "type": "parcoords"
           }
          ],
          "pie": [
           {
            "automargin": true,
            "type": "pie"
           }
          ],
          "scatter": [
           {
            "fillpattern": {
             "fillmode": "overlay",
             "size": 10,
             "solidity": 0.2
            },
            "type": "scatter"
           }
          ],
          "scatter3d": [
           {
            "line": {
             "colorbar": {
              "outlinewidth": 0,
              "ticks": ""
             }
            },
            "marker": {
             "colorbar": {
              "outlinewidth": 0,
              "ticks": ""
             }
            },
            "type": "scatter3d"
           }
          ],
          "scattercarpet": [
           {
            "marker": {
             "colorbar": {
              "outlinewidth": 0,
              "ticks": ""
             }
            },
            "type": "scattercarpet"
           }
          ],
          "scattergeo": [
           {
            "marker": {
             "colorbar": {
              "outlinewidth": 0,
              "ticks": ""
             }
            },
            "type": "scattergeo"
           }
          ],
          "scattergl": [
           {
            "marker": {
             "colorbar": {
              "outlinewidth": 0,
              "ticks": ""
             }
            },
            "type": "scattergl"
           }
          ],
          "scattermapbox": [
           {
            "marker": {
             "colorbar": {
              "outlinewidth": 0,
              "ticks": ""
             }
            },
            "type": "scattermapbox"
           }
          ],
          "scatterpolar": [
           {
            "marker": {
             "colorbar": {
              "outlinewidth": 0,
              "ticks": ""
             }
            },
            "type": "scatterpolar"
           }
          ],
          "scatterpolargl": [
           {
            "marker": {
             "colorbar": {
              "outlinewidth": 0,
              "ticks": ""
             }
            },
            "type": "scatterpolargl"
           }
          ],
          "scatterternary": [
           {
            "marker": {
             "colorbar": {
              "outlinewidth": 0,
              "ticks": ""
             }
            },
            "type": "scatterternary"
           }
          ],
          "surface": [
           {
            "colorbar": {
             "outlinewidth": 0,
             "ticks": ""
            },
            "colorscale": [
             [
              0,
              "#0d0887"
             ],
             [
              0.1111111111111111,
              "#46039f"
             ],
             [
              0.2222222222222222,
              "#7201a8"
             ],
             [
              0.3333333333333333,
              "#9c179e"
             ],
             [
              0.4444444444444444,
              "#bd3786"
             ],
             [
              0.5555555555555556,
              "#d8576b"
             ],
             [
              0.6666666666666666,
              "#ed7953"
             ],
             [
              0.7777777777777778,
              "#fb9f3a"
             ],
             [
              0.8888888888888888,
              "#fdca26"
             ],
             [
              1,
              "#f0f921"
             ]
            ],
            "type": "surface"
           }
          ],
          "table": [
           {
            "cells": {
             "fill": {
              "color": "#EBF0F8"
             },
             "line": {
              "color": "white"
             }
            },
            "header": {
             "fill": {
              "color": "#C8D4E3"
             },
             "line": {
              "color": "white"
             }
            },
            "type": "table"
           }
          ]
         },
         "layout": {
          "annotationdefaults": {
           "arrowcolor": "#2a3f5f",
           "arrowhead": 0,
           "arrowwidth": 1
          },
          "autotypenumbers": "strict",
          "coloraxis": {
           "colorbar": {
            "outlinewidth": 0,
            "ticks": ""
           }
          },
          "colorscale": {
           "diverging": [
            [
             0,
             "#8e0152"
            ],
            [
             0.1,
             "#c51b7d"
            ],
            [
             0.2,
             "#de77ae"
            ],
            [
             0.3,
             "#f1b6da"
            ],
            [
             0.4,
             "#fde0ef"
            ],
            [
             0.5,
             "#f7f7f7"
            ],
            [
             0.6,
             "#e6f5d0"
            ],
            [
             0.7,
             "#b8e186"
            ],
            [
             0.8,
             "#7fbc41"
            ],
            [
             0.9,
             "#4d9221"
            ],
            [
             1,
             "#276419"
            ]
           ],
           "sequential": [
            [
             0,
             "#0d0887"
            ],
            [
             0.1111111111111111,
             "#46039f"
            ],
            [
             0.2222222222222222,
             "#7201a8"
            ],
            [
             0.3333333333333333,
             "#9c179e"
            ],
            [
             0.4444444444444444,
             "#bd3786"
            ],
            [
             0.5555555555555556,
             "#d8576b"
            ],
            [
             0.6666666666666666,
             "#ed7953"
            ],
            [
             0.7777777777777778,
             "#fb9f3a"
            ],
            [
             0.8888888888888888,
             "#fdca26"
            ],
            [
             1,
             "#f0f921"
            ]
           ],
           "sequentialminus": [
            [
             0,
             "#0d0887"
            ],
            [
             0.1111111111111111,
             "#46039f"
            ],
            [
             0.2222222222222222,
             "#7201a8"
            ],
            [
             0.3333333333333333,
             "#9c179e"
            ],
            [
             0.4444444444444444,
             "#bd3786"
            ],
            [
             0.5555555555555556,
             "#d8576b"
            ],
            [
             0.6666666666666666,
             "#ed7953"
            ],
            [
             0.7777777777777778,
             "#fb9f3a"
            ],
            [
             0.8888888888888888,
             "#fdca26"
            ],
            [
             1,
             "#f0f921"
            ]
           ]
          },
          "colorway": [
           "#636efa",
           "#EF553B",
           "#00cc96",
           "#ab63fa",
           "#FFA15A",
           "#19d3f3",
           "#FF6692",
           "#B6E880",
           "#FF97FF",
           "#FECB52"
          ],
          "font": {
           "color": "#2a3f5f"
          },
          "geo": {
           "bgcolor": "white",
           "lakecolor": "white",
           "landcolor": "#E5ECF6",
           "showlakes": true,
           "showland": true,
           "subunitcolor": "white"
          },
          "hoverlabel": {
           "align": "left"
          },
          "hovermode": "closest",
          "mapbox": {
           "style": "light"
          },
          "paper_bgcolor": "white",
          "plot_bgcolor": "#E5ECF6",
          "polar": {
           "angularaxis": {
            "gridcolor": "white",
            "linecolor": "white",
            "ticks": ""
           },
           "bgcolor": "#E5ECF6",
           "radialaxis": {
            "gridcolor": "white",
            "linecolor": "white",
            "ticks": ""
           }
          },
          "scene": {
           "xaxis": {
            "backgroundcolor": "#E5ECF6",
            "gridcolor": "white",
            "gridwidth": 2,
            "linecolor": "white",
            "showbackground": true,
            "ticks": "",
            "zerolinecolor": "white"
           },
           "yaxis": {
            "backgroundcolor": "#E5ECF6",
            "gridcolor": "white",
            "gridwidth": 2,
            "linecolor": "white",
            "showbackground": true,
            "ticks": "",
            "zerolinecolor": "white"
           },
           "zaxis": {
            "backgroundcolor": "#E5ECF6",
            "gridcolor": "white",
            "gridwidth": 2,
            "linecolor": "white",
            "showbackground": true,
            "ticks": "",
            "zerolinecolor": "white"
           }
          },
          "shapedefaults": {
           "line": {
            "color": "#2a3f5f"
           }
          },
          "ternary": {
           "aaxis": {
            "gridcolor": "white",
            "linecolor": "white",
            "ticks": ""
           },
           "baxis": {
            "gridcolor": "white",
            "linecolor": "white",
            "ticks": ""
           },
           "bgcolor": "#E5ECF6",
           "caxis": {
            "gridcolor": "white",
            "linecolor": "white",
            "ticks": ""
           }
          },
          "title": {
           "x": 0.05
          },
          "xaxis": {
           "automargin": true,
           "gridcolor": "white",
           "linecolor": "white",
           "ticks": "",
           "title": {
            "standoff": 15
           },
           "zerolinecolor": "white",
           "zerolinewidth": 2
          },
          "yaxis": {
           "automargin": true,
           "gridcolor": "white",
           "linecolor": "white",
           "ticks": "",
           "title": {
            "standoff": 15
           },
           "zerolinecolor": "white",
           "zerolinewidth": 2
          }
         }
        },
        "title": {
         "text": "Krunkscripts per Author"
        }
       }
      }
     },
     "metadata": {},
     "output_type": "display_data"
    }
   ],
   "source": [
    "field = \"author\"\n",
    "# field = \"category\"\n",
    "results_groupby = simple_results.groupby(field)[field].count()\n",
    "results_groupby = results_groupby.to_frame().rename(columns={\"author\": \"count\"}).reset_index()\n",
    "\n",
    "results_groupby\n",
    "fig = px.pie(results_groupby,values='count',names='author')\n",
    "fig.update_traces(textinfo='value')\n",
    "fig.update_layout(\n",
    "    title=\"Krunkscripts per Author\"\n",
    ")\n",
    "fig.show()\n",
    "fig.write_image(\"author.png\") \n"
   ]
  },
  {
   "cell_type": "code",
   "execution_count": 8,
   "metadata": {},
   "outputs": [
    {
     "name": "stderr",
     "output_type": "stream",
     "text": [
      "C:\\Users\\Justi\\AppData\\Local\\Temp/ipykernel_13056/3986019378.py:6: FutureWarning:\n",
      "\n",
      "Using the level keyword in DataFrame and Series aggregations is deprecated and will be removed in a future version. Use groupby instead. df.sum(level=1) should use df.groupby(level=1).sum().\n",
      "\n"
     ]
    },
    {
     "data": {
      "text/html": [
       "<div>\n",
       "<style scoped>\n",
       "    .dataframe tbody tr th:only-of-type {\n",
       "        vertical-align: middle;\n",
       "    }\n",
       "\n",
       "    .dataframe tbody tr th {\n",
       "        vertical-align: top;\n",
       "    }\n",
       "\n",
       "    .dataframe thead th {\n",
       "        text-align: right;\n",
       "    }\n",
       "</style>\n",
       "<table border=\"1\" class=\"dataframe\">\n",
       "  <thead>\n",
       "    <tr style=\"text-align: right;\">\n",
       "      <th></th>\n",
       "      <th>script_name</th>\n",
       "      <th>author</th>\n",
       "      <th>client</th>\n",
       "      <th>server</th>\n",
       "      <th>other</th>\n",
       "      <th>description</th>\n",
       "      <th>link</th>\n",
       "      <th>category</th>\n",
       "      <th>path</th>\n",
       "      <th>tags</th>\n",
       "      <th>...</th>\n",
       "      <th>tags_weaponinfo</th>\n",
       "      <th>tags_database</th>\n",
       "      <th>tags_examples</th>\n",
       "      <th>tags_game</th>\n",
       "      <th>tags_gameutil</th>\n",
       "      <th>tags_network</th>\n",
       "      <th>tags_overlay</th>\n",
       "      <th>tags_physics</th>\n",
       "      <th>tags_scene</th>\n",
       "      <th>tags_util</th>\n",
       "    </tr>\n",
       "  </thead>\n",
       "  <tbody>\n",
       "    <tr>\n",
       "      <th>2</th>\n",
       "      <td>r_djumpnode</td>\n",
       "      <td>blandrice</td>\n",
       "      <td>yes</td>\n",
       "      <td>yes</td>\n",
       "      <td>yes</td>\n",
       "      <td>Doublejump with crystals</td>\n",
       "      <td></td>\n",
       "      <td>game</td>\n",
       "      <td>https://github.com/blandrice/blandlibs/tree/ma...</td>\n",
       "      <td>['game',  'custommovement',  'doublejump',  'd...</td>\n",
       "      <td>...</td>\n",
       "      <td>0</td>\n",
       "      <td>0</td>\n",
       "      <td>0</td>\n",
       "      <td>1</td>\n",
       "      <td>0</td>\n",
       "      <td>0</td>\n",
       "      <td>0</td>\n",
       "      <td>0</td>\n",
       "      <td>0</td>\n",
       "      <td>0</td>\n",
       "    </tr>\n",
       "    <tr>\n",
       "      <th>3</th>\n",
       "      <td>old_djump</td>\n",
       "      <td>blandrice</td>\n",
       "      <td>yes</td>\n",
       "      <td>yes</td>\n",
       "      <td></td>\n",
       "      <td>old doublejump by blandrice before registersyn...</td>\n",
       "      <td></td>\n",
       "      <td>game</td>\n",
       "      <td>https://github.com/blandrice/blandlibs/tree/ma...</td>\n",
       "      <td>['game',  'custommovement',  'doublejump',  'd...</td>\n",
       "      <td>...</td>\n",
       "      <td>0</td>\n",
       "      <td>0</td>\n",
       "      <td>0</td>\n",
       "      <td>1</td>\n",
       "      <td>0</td>\n",
       "      <td>0</td>\n",
       "      <td>0</td>\n",
       "      <td>0</td>\n",
       "      <td>0</td>\n",
       "      <td>0</td>\n",
       "    </tr>\n",
       "    <tr>\n",
       "      <th>4</th>\n",
       "      <td>ecs</td>\n",
       "      <td>blandrice</td>\n",
       "      <td>yes</td>\n",
       "      <td>yes</td>\n",
       "      <td></td>\n",
       "      <td>Entity Component System</td>\n",
       "      <td></td>\n",
       "      <td>game</td>\n",
       "      <td>https://github.com/blandrice/blandlibs/tree/ma...</td>\n",
       "      <td>['game',  'ECS',  'system']</td>\n",
       "      <td>...</td>\n",
       "      <td>0</td>\n",
       "      <td>0</td>\n",
       "      <td>0</td>\n",
       "      <td>1</td>\n",
       "      <td>0</td>\n",
       "      <td>0</td>\n",
       "      <td>0</td>\n",
       "      <td>0</td>\n",
       "      <td>0</td>\n",
       "      <td>0</td>\n",
       "    </tr>\n",
       "    <tr>\n",
       "      <th>16</th>\n",
       "      <td>hitbox</td>\n",
       "      <td>blandrice</td>\n",
       "      <td></td>\n",
       "      <td>yes</td>\n",
       "      <td></td>\n",
       "      <td>ECS hitbox that can be assigned to a specific ...</td>\n",
       "      <td></td>\n",
       "      <td>game</td>\n",
       "      <td>https://github.com/blandrice/blandlibs/tree/ma...</td>\n",
       "      <td>['game',  'ECS',  'components',  'hitbox']</td>\n",
       "      <td>...</td>\n",
       "      <td>0</td>\n",
       "      <td>0</td>\n",
       "      <td>0</td>\n",
       "      <td>1</td>\n",
       "      <td>0</td>\n",
       "      <td>0</td>\n",
       "      <td>0</td>\n",
       "      <td>0</td>\n",
       "      <td>0</td>\n",
       "      <td>0</td>\n",
       "    </tr>\n",
       "    <tr>\n",
       "      <th>17</th>\n",
       "      <td>shake</td>\n",
       "      <td>blandrice</td>\n",
       "      <td></td>\n",
       "      <td>yes</td>\n",
       "      <td></td>\n",
       "      <td>ECS shake feature</td>\n",
       "      <td></td>\n",
       "      <td>game</td>\n",
       "      <td>https://github.com/blandrice/blandlibs/tree/ma...</td>\n",
       "      <td>['game',  'ECS',  'components',  'movement',  ...</td>\n",
       "      <td>...</td>\n",
       "      <td>0</td>\n",
       "      <td>0</td>\n",
       "      <td>0</td>\n",
       "      <td>1</td>\n",
       "      <td>0</td>\n",
       "      <td>0</td>\n",
       "      <td>0</td>\n",
       "      <td>0</td>\n",
       "      <td>0</td>\n",
       "      <td>0</td>\n",
       "    </tr>\n",
       "  </tbody>\n",
       "</table>\n",
       "<p>5 rows × 70 columns</p>\n",
       "</div>"
      ],
      "text/plain": [
       "    script_name     author client server other  \\\n",
       "2   r_djumpnode  blandrice    yes    yes   yes   \n",
       "3     old_djump  blandrice    yes    yes         \n",
       "4           ecs  blandrice    yes    yes         \n",
       "16       hitbox  blandrice           yes         \n",
       "17        shake  blandrice           yes         \n",
       "\n",
       "                                          description link category  \\\n",
       "2                            Doublejump with crystals          game   \n",
       "3   old doublejump by blandrice before registersyn...          game   \n",
       "4                             Entity Component System          game   \n",
       "16  ECS hitbox that can be assigned to a specific ...          game   \n",
       "17                                  ECS shake feature          game   \n",
       "\n",
       "                                                 path  \\\n",
       "2   https://github.com/blandrice/blandlibs/tree/ma...   \n",
       "3   https://github.com/blandrice/blandlibs/tree/ma...   \n",
       "4   https://github.com/blandrice/blandlibs/tree/ma...   \n",
       "16  https://github.com/blandrice/blandlibs/tree/ma...   \n",
       "17  https://github.com/blandrice/blandlibs/tree/ma...   \n",
       "\n",
       "                                                 tags  ...  tags_weaponinfo  \\\n",
       "2   ['game',  'custommovement',  'doublejump',  'd...  ...                0   \n",
       "3   ['game',  'custommovement',  'doublejump',  'd...  ...                0   \n",
       "4                         ['game',  'ECS',  'system']  ...                0   \n",
       "16         ['game',  'ECS',  'components',  'hitbox']  ...                0   \n",
       "17  ['game',  'ECS',  'components',  'movement',  ...  ...                0   \n",
       "\n",
       "    tags_database  tags_examples  tags_game  tags_gameutil  tags_network  \\\n",
       "2               0              0          1              0             0   \n",
       "3               0              0          1              0             0   \n",
       "4               0              0          1              0             0   \n",
       "16              0              0          1              0             0   \n",
       "17              0              0          1              0             0   \n",
       "\n",
       "    tags_overlay  tags_physics  tags_scene  tags_util  \n",
       "2              0             0           0          0  \n",
       "3              0             0           0          0  \n",
       "4              0             0           0          0  \n",
       "16             0             0           0          0  \n",
       "17             0             0           0          0  \n",
       "\n",
       "[5 rows x 70 columns]"
      ]
     },
     "execution_count": 8,
     "metadata": {},
     "output_type": "execute_result"
    }
   ],
   "source": [
    "'''\n",
    "search by tags in python\n",
    "'''\n",
    "\n",
    "# dummy values?\n",
    "tag_columns = pd.get_dummies(simple_results['tags'].apply(pd.Series).stack()).sum(level=0)\n",
    "# add prefix\n",
    "tag_columns.columns = [('tags_' + str(col).strip().replace(\"'\",\"\"))for col in tag_columns.columns.tolist()]\n",
    "# concat to results\n",
    "simple_result_tags = pd.concat([simple_results, tag_columns], axis=1)\n",
    "\n",
    "# search by tag name\n",
    "searchtag = \"game\"\n",
    "search_results = simple_result_tags[simple_result_tags['tags_'+searchtag] == 1]\n",
    "search_results.head()\n"
   ]
  },
  {
   "cell_type": "code",
   "execution_count": 9,
   "metadata": {},
   "outputs": [
    {
     "data": {
      "text/plain": [
       "tags_game          16\n",
       "tags_ECS           12\n",
       "tags_gameutil       9\n",
       "tags_components     9\n",
       "tags_util           8\n",
       "dtype: int64"
      ]
     },
     "execution_count": 9,
     "metadata": {},
     "output_type": "execute_result"
    }
   ],
   "source": [
    "tag_columns.sum().sort_values(ascending=False).head()"
   ]
  },
  {
   "cell_type": "code",
   "execution_count": null,
   "metadata": {},
   "outputs": [],
   "source": []
  }
 ],
 "metadata": {
  "kernelspec": {
   "display_name": "python38",
   "language": "python",
   "name": "python3"
  },
  "language_info": {
   "codemirror_mode": {
    "name": "ipython",
    "version": 3
   },
   "file_extension": ".py",
   "mimetype": "text/x-python",
   "name": "python",
   "nbconvert_exporter": "python",
   "pygments_lexer": "ipython3",
   "version": "3.8.10"
  },
  "orig_nbformat": 4
 },
 "nbformat": 4,
 "nbformat_minor": 2
}
